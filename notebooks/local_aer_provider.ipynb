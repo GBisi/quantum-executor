{
 "cells": [
  {
   "cell_type": "markdown",
   "id": "267f9e1c",
   "metadata": {},
   "source": [
    "# LocalAERProvider and LocalAERBackend Demo\n",
    "\n",
    "This notebook showcases how to use the `LocalAERProvider` and `LocalAERBackend` classes, which enable quantum circuit execution using a local Qiskit Aer simulator, integrated with qBraid-compatible tooling.\n",
    "\n",
    "In this notebook, we will:\n",
    "\n",
    "1. Construct a basic quantum circuit.\n",
    "2. Use `LocalAERProvider` to:\n",
    "   - List available local simulation backends.\n",
    "   - Retrieve a specific backend.\n",
    "3. Use `LocalAERBackend` to:\n",
    "   - Convert the quantum circuit into an executable format.\n",
    "   - Submit and execute the circuit locally.\n",
    "\n",
    "> 💡 Before proceeding, make sure the required dependencies are installed: `qiskit`, `qbraid`, and other supporting libraries!"
   ]
  },
  {
   "cell_type": "markdown",
   "id": "4e40bde5",
   "metadata": {},
   "source": [
    "## 1. Setup and Imports\n",
    "\n",
    "We begin by importing the necessary libraries, including the local AER provider and backend classes."
   ]
  },
  {
   "cell_type": "code",
   "execution_count": 1,
   "id": "288fd817",
   "metadata": {},
   "outputs": [],
   "source": [
    "# Import Qiskit components for circuit creation\n",
    "from qiskit import QuantumCircuit\n",
    "\n",
    "# Import the LocalAERProvider for local execution\n",
    "from quantum_executor.local_aer import LocalAERProvider"
   ]
  },
  {
   "cell_type": "markdown",
   "id": "c706d2a7",
   "metadata": {},
   "source": [
    "## 2. Creating a Simple Quantum Circuit\n",
    "\n",
    "We create a basic quantum circuit that will be used to test the backend functionalities.\n",
    "Here, we create a Bell state circuit."
   ]
  },
  {
   "cell_type": "code",
   "execution_count": 2,
   "id": "7f295d5d",
   "metadata": {},
   "outputs": [
    {
     "data": {
      "text/html": [
       "<pre style=\"word-wrap: normal;white-space: pre;background: #fff0;line-height: 1.1;font-family: &quot;Courier New&quot;,Courier,monospace\">        ┌───┐      ░ ┌─┐   \n",
       "   q_0: ┤ H ├──■───░─┤M├───\n",
       "        └───┘┌─┴─┐ ░ └╥┘┌─┐\n",
       "   q_1: ─────┤ X ├─░──╫─┤M├\n",
       "             └───┘ ░  ║ └╥┘\n",
       "meas: 2/══════════════╩══╩═\n",
       "                      0  1 </pre>"
      ],
      "text/plain": [
       "        ┌───┐      ░ ┌─┐   \n",
       "   q_0: ┤ H ├──■───░─┤M├───\n",
       "        └───┘┌─┴─┐ ░ └╥┘┌─┐\n",
       "   q_1: ─────┤ X ├─░──╫─┤M├\n",
       "             └───┘ ░  ║ └╥┘\n",
       "meas: 2/══════════════╩══╩═\n",
       "                      0  1 "
      ]
     },
     "execution_count": 2,
     "metadata": {},
     "output_type": "execute_result"
    }
   ],
   "source": [
    "# Create a simple 2-qubit quantum circuit that creates a Bell state\n",
    "qc = QuantumCircuit(2)\n",
    "qc.h(0)\n",
    "qc.cx(0, 1)\n",
    "qc.measure_all()\n",
    "qc.draw()"
   ]
  },
  {
   "cell_type": "markdown",
   "id": "00da645e",
   "metadata": {},
   "source": [
    "## 3. Testing the LocalAERProvider\n",
    "\n",
    "The `LocalAERProvider` class provides methods to list available quantum devices and to retrieve a specific device by its identifier."
   ]
  },
  {
   "cell_type": "code",
   "execution_count": 3,
   "id": "e897455d",
   "metadata": {},
   "outputs": [
    {
     "name": "stdout",
     "output_type": "stream",
     "text": [
      "List of available devices:\n",
      " - LocalAERBackend('aer_simulator')\n",
      " - LocalAERBackend('fake_algiers')\n",
      " - LocalAERBackend('fake_almaden')\n",
      " - LocalAERBackend('fake_armonk')\n",
      " - LocalAERBackend('fake_athens')\n",
      " - LocalAERBackend('fake_auckland')\n",
      " - LocalAERBackend('fake_belem')\n",
      " - LocalAERBackend('fake_boeblingen')\n",
      " - LocalAERBackend('fake_bogota')\n",
      " - LocalAERBackend('fake_brisbane')\n",
      " - LocalAERBackend('fake_brooklyn')\n",
      " - LocalAERBackend('fake_burlington')\n",
      " - LocalAERBackend('fake_cairo')\n",
      " - LocalAERBackend('fake_cambridge')\n",
      " - LocalAERBackend('fake_casablanca')\n",
      " - LocalAERBackend('fake_cusco')\n",
      " - LocalAERBackend('fake_essex')\n",
      " - LocalAERBackend('fake_fez')\n",
      " - LocalAERBackend('fake_fractional')\n",
      " - LocalAERBackend('fake_geneva')\n",
      " - LocalAERBackend('fake_guadalupe')\n",
      " - LocalAERBackend('fake_hanoi')\n",
      " - LocalAERBackend('fake_jakarta')\n",
      " - LocalAERBackend('fake_johannesburg')\n",
      " - LocalAERBackend('fake_kawasaki')\n",
      " - LocalAERBackend('fake_kolkata')\n",
      " - LocalAERBackend('fake_kyiv')\n",
      " - LocalAERBackend('fake_kyoto')\n",
      " - LocalAERBackend('fake_lagos')\n",
      " - LocalAERBackend('fake_lima')\n",
      " - LocalAERBackend('fake_london')\n",
      " - LocalAERBackend('fake_manhattan')\n",
      " - LocalAERBackend('fake_manila')\n",
      " - LocalAERBackend('fake_melbourne')\n",
      " - LocalAERBackend('fake_marrakesh')\n",
      " - LocalAERBackend('fake_montreal')\n",
      " - LocalAERBackend('fake_mumbai')\n",
      " - LocalAERBackend('fake_nairobi')\n",
      " - LocalAERBackend('fake_osaka')\n",
      " - LocalAERBackend('fake_oslo')\n",
      " - LocalAERBackend('fake_ourense')\n",
      " - LocalAERBackend('fake_paris')\n",
      " - LocalAERBackend('fake_peekskill')\n",
      " - LocalAERBackend('fake_perth')\n",
      " - LocalAERBackend('fake_prague')\n",
      " - LocalAERBackend('fake_poughkeepsie')\n",
      " - LocalAERBackend('fake_quebec')\n",
      " - LocalAERBackend('fake_quito')\n",
      " - LocalAERBackend('fake_rochester')\n",
      " - LocalAERBackend('fake_rome')\n",
      " - LocalAERBackend('fake_santiago')\n",
      " - LocalAERBackend('fake_sherbrooke')\n",
      " - LocalAERBackend('fake_singapore')\n",
      " - LocalAERBackend('fake_sydney')\n",
      " - LocalAERBackend('fake_torino')\n",
      " - LocalAERBackend('fake_toronto')\n",
      " - LocalAERBackend('fake_valencia')\n",
      " - LocalAERBackend('fake_vigo')\n",
      " - LocalAERBackend('fake_washington')\n",
      " - LocalAERBackend('fake_yorktown')\n"
     ]
    }
   ],
   "source": [
    "# Create a LocalAERProvider instance\n",
    "provider = LocalAERProvider()\n",
    "\n",
    "# List available devices\n",
    "devices = provider.get_devices()\n",
    "print(\"List of available devices:\")\n",
    "for dev in devices:\n",
    "    print(\" -\", dev)"
   ]
  },
  {
   "cell_type": "markdown",
   "id": "2c08be3a",
   "metadata": {},
   "source": [
    "Local Backends are always online."
   ]
  },
  {
   "cell_type": "code",
   "execution_count": 4,
   "id": "e587bc81",
   "metadata": {},
   "outputs": [
    {
     "name": "stdout",
     "output_type": "stream",
     "text": [
      "\n",
      "Retrieved device using device_id 'aer_simulator':\n",
      "LocalAERBackend('aer_simulator')\n",
      "Status: DeviceStatus.ONLINE\n"
     ]
    }
   ],
   "source": [
    "# Retrieve a noiseless device\n",
    "# default noiseless simulator: device_id=\"aer_simulator\"\n",
    "device_id = \"aer_simulator\"\n",
    "noiseless_simulator = provider.get_device(device_id)\n",
    "print(f\"\\nRetrieved device using device_id '{device_id}':\")\n",
    "print(noiseless_simulator)\n",
    "print(\"Status:\", noiseless_simulator.status())"
   ]
  },
  {
   "cell_type": "code",
   "execution_count": 5,
   "id": "ce0bba32",
   "metadata": {},
   "outputs": [
    {
     "name": "stdout",
     "output_type": "stream",
     "text": [
      "\n",
      "Retrieved device using device_id 'fake_torino':\n",
      "LocalAERBackend('fake_torino')\n",
      "Status: DeviceStatus.ONLINE\n"
     ]
    }
   ],
   "source": [
    "# Retrieve a noisy device\n",
    "# (LocalAERrovider support noisy simulators through qiskit_ibm_runtime FakeProviderForBackendV2)\n",
    "device_id = \"fake_torino\"\n",
    "noisy_simulator = provider.get_device(device_id)\n",
    "print(f\"\\nRetrieved device using device_id '{device_id}':\")\n",
    "print(noisy_simulator)\n",
    "print(\"Status:\", noisy_simulator.status())"
   ]
  },
  {
   "cell_type": "markdown",
   "id": "9fd2bb7e",
   "metadata": {},
   "source": [
    "## 4. Testing the LocalAERBackend\n",
    "\n",
    "Now that we have retrieved a noiseless and noisy simulators, we test:\n",
    "- The **transform** method to transpile the circuit.\n",
    "- The **submit** method to execute the circuit on the local simulators.\n",
    "\n",
    "The submit method requires the `shots` parameter (and optionally a random seed)."
   ]
  },
  {
   "cell_type": "markdown",
   "id": "10e6aff3",
   "metadata": {},
   "source": [
    "### 4.1 Testing the `transform` Method\n",
    "\n",
    "The `transform` method transpiles the input quantum circuit so that it can be executed on the specified device."
   ]
  },
  {
   "cell_type": "markdown",
   "id": "1caf6bf9",
   "metadata": {},
   "source": [
    "The `aer_simulator`, being a perfect simulator, does not require any transformation of the input circuit."
   ]
  },
  {
   "cell_type": "code",
   "execution_count": 6,
   "id": "4f2f246b",
   "metadata": {},
   "outputs": [
    {
     "data": {
      "text/html": [
       "<pre style=\"word-wrap: normal;white-space: pre;background: #fff0;line-height: 1.1;font-family: &quot;Courier New&quot;,Courier,monospace\">        ┌───┐      ░ ┌─┐   \n",
       "   q_0: ┤ H ├──■───░─┤M├───\n",
       "        └───┘┌─┴─┐ ░ └╥┘┌─┐\n",
       "   q_1: ─────┤ X ├─░──╫─┤M├\n",
       "             └───┘ ░  ║ └╥┘\n",
       "meas: 2/══════════════╩══╩═\n",
       "                      0  1 </pre>"
      ],
      "text/plain": [
       "        ┌───┐      ░ ┌─┐   \n",
       "   q_0: ┤ H ├──■───░─┤M├───\n",
       "        └───┘┌─┴─┐ ░ └╥┘┌─┐\n",
       "   q_1: ─────┤ X ├─░──╫─┤M├\n",
       "             └───┘ ░  ║ └╥┘\n",
       "meas: 2/══════════════╩══╩═\n",
       "                      0  1 "
      ]
     },
     "execution_count": 6,
     "metadata": {},
     "output_type": "execute_result"
    }
   ],
   "source": [
    "aer_simulator_transformed_qc = noiseless_simulator.transform(qc)\n",
    "\n",
    "aer_simulator_transformed_qc.draw()"
   ]
  },
  {
   "cell_type": "markdown",
   "id": "43a886f5",
   "metadata": {},
   "source": [
    "On the other hand, the noisy simulators mimic the behaviour and topology of a real quantum computer, thus requiring a transpilation of the circuit."
   ]
  },
  {
   "cell_type": "code",
   "execution_count": 7,
   "id": "ade6f0e7",
   "metadata": {},
   "outputs": [
    {
     "data": {
      "text/html": [
       "<pre style=\"word-wrap: normal;white-space: pre;background: #fff0;line-height: 1.1;font-family: &quot;Courier New&quot;,Courier,monospace\">global phase: 3π/4\n",
       "          ┌─────────┐┌────┐ ┌───────┐    ┌────┐┌─────────┐ ░    ┌─┐\n",
       "q_1 -> 65 ┤ Rz(π/2) ├┤ √X ├─┤ Rz(π) ├──■─┤ √X ├┤ Rz(π/2) ├─░────┤M├\n",
       "          ├─────────┤├────┤┌┴───────┴┐ │ └────┘└─────────┘ ░ ┌─┐└╥┘\n",
       "q_0 -> 66 ┤ Rz(π/2) ├┤ √X ├┤ Rz(π/2) ├─■───────────────────░─┤M├─╫─\n",
       "          └─────────┘└────┘└─────────┘                     ░ └╥┘ ║ \n",
       "  meas: 2/════════════════════════════════════════════════════╩══╩═\n",
       "                                                              0  1 </pre>"
      ],
      "text/plain": [
       "global phase: 3π/4\n",
       "          ┌─────────┐┌────┐ ┌───────┐    ┌────┐┌─────────┐ ░    ┌─┐\n",
       "q_1 -> 65 ┤ Rz(π/2) ├┤ √X ├─┤ Rz(π) ├──■─┤ √X ├┤ Rz(π/2) ├─░────┤M├\n",
       "          ├─────────┤├────┤┌┴───────┴┐ │ └────┘└─────────┘ ░ ┌─┐└╥┘\n",
       "q_0 -> 66 ┤ Rz(π/2) ├┤ √X ├┤ Rz(π/2) ├─■───────────────────░─┤M├─╫─\n",
       "          └─────────┘└────┘└─────────┘                     ░ └╥┘ ║ \n",
       "  meas: 2/════════════════════════════════════════════════════╩══╩═\n",
       "                                                              0  1 "
      ]
     },
     "execution_count": 7,
     "metadata": {},
     "output_type": "execute_result"
    }
   ],
   "source": [
    "fake_torino_transformed_qc = noisy_simulator.transform(qc)\n",
    "\n",
    "fake_torino_transformed_qc.draw()"
   ]
  },
  {
   "cell_type": "markdown",
   "id": "568941c1",
   "metadata": {},
   "source": [
    "### 4 Testing the `submit` Method\n",
    "\n",
    "We now submit the quantum circuit for simulation using the `submit` method.\n",
    "We provide the required `shots` parameter and an optional seed.\n",
    "The returned job is a `qbraid.runtime.ibm.QiskitJob` object."
   ]
  },
  {
   "cell_type": "code",
   "execution_count": 8,
   "id": "20659152",
   "metadata": {},
   "outputs": [
    {
     "name": "stdout",
     "output_type": "stream",
     "text": [
      "Metadata: {'job_id': '203911d6-902c-441d-b4e7-f73799217fbc', 'status': <COMPLETED: 'job has successfully run'>}\n",
      "Result(\n",
      "  device_id=aer_simulator,\n",
      "  job_id=203911d6-902c-441d-b4e7-f73799217fbc,\n",
      "  success=True,\n",
      "  data=GateModelResultData(measurement_counts={'00': 536, '11': 488}, measurements=array(shape=(1024, 1), dtype=uint8)),\n",
      "  version=2\n",
      ")\n",
      "{'00': 536, '11': 488}\n"
     ]
    }
   ],
   "source": [
    "job = noiseless_simulator.submit(aer_simulator_transformed_qc, shots=1024)\n",
    "\n",
    "# Wait for the job to finish\n",
    "job.wait_for_final_state()\n",
    "\n",
    "print(\"Metadata:\", job.metadata())\n",
    "\n",
    "# Print the job result object\n",
    "print(job.result())\n",
    "\n",
    "# Print the counts of the measurement results\n",
    "print(job.result().data.get_counts())"
   ]
  },
  {
   "cell_type": "markdown",
   "id": "4bf49cbf",
   "metadata": {},
   "source": [
    "Without a seed every execution is different:"
   ]
  },
  {
   "cell_type": "code",
   "execution_count": 9,
   "id": "0984400f",
   "metadata": {},
   "outputs": [
    {
     "name": "stdout",
     "output_type": "stream",
     "text": [
      "{'00': 517, '11': 507}\n"
     ]
    }
   ],
   "source": [
    "job1 = noiseless_simulator.submit(aer_simulator_transformed_qc, shots=1024)\n",
    "job1.wait_for_final_state()\n",
    "print(job1.result().data.get_counts())"
   ]
  },
  {
   "cell_type": "markdown",
   "id": "817c7035",
   "metadata": {},
   "source": [
    "With a seed, instead, we can get the same result every time we run the code:"
   ]
  },
  {
   "cell_type": "code",
   "execution_count": 10,
   "id": "55839dc0",
   "metadata": {},
   "outputs": [
    {
     "name": "stdout",
     "output_type": "stream",
     "text": [
      "{'00': 521, '11': 503}\n",
      "{'00': 521, '11': 503}\n"
     ]
    }
   ],
   "source": [
    "job2 = noiseless_simulator.submit(aer_simulator_transformed_qc, shots=1024, seed=42)\n",
    "job2.wait_for_final_state()\n",
    "print(job2.result().data.get_counts())\n",
    "\n",
    "job3 = noiseless_simulator.submit(aer_simulator_transformed_qc, shots=1024, seed=42)\n",
    "job3.wait_for_final_state()\n",
    "print(job3.result().data.get_counts())"
   ]
  },
  {
   "cell_type": "markdown",
   "id": "fd929bfa",
   "metadata": {},
   "source": [
    "The same applies for the noisy simulator, the seed controls also the noise. Without a seed:"
   ]
  },
  {
   "cell_type": "code",
   "execution_count": 11,
   "id": "97d59409",
   "metadata": {},
   "outputs": [
    {
     "name": "stdout",
     "output_type": "stream",
     "text": [
      "{'00': 496, '01': 18, '10': 10, '11': 500}\n",
      "{'00': 483, '01': 28, '10': 11, '11': 502}\n"
     ]
    }
   ],
   "source": [
    "job4 = noisy_simulator.submit(fake_torino_transformed_qc, shots=1024)\n",
    "job4.wait_for_final_state()\n",
    "print(job4.result().data.get_counts())\n",
    "\n",
    "job5 = noisy_simulator.submit(fake_torino_transformed_qc, shots=1024)\n",
    "job5.wait_for_final_state()\n",
    "print(job5.result().data.get_counts())"
   ]
  },
  {
   "cell_type": "markdown",
   "id": "8ad45e49",
   "metadata": {},
   "source": [
    "With a seed:"
   ]
  },
  {
   "cell_type": "code",
   "execution_count": 12,
   "id": "fcaa1c54",
   "metadata": {},
   "outputs": [
    {
     "name": "stdout",
     "output_type": "stream",
     "text": [
      "{'00': 517, '01': 7, '10': 16, '11': 484}\n",
      "{'00': 517, '01': 7, '10': 16, '11': 484}\n"
     ]
    }
   ],
   "source": [
    "job6 = noisy_simulator.submit(fake_torino_transformed_qc, shots=1024, seed=42)\n",
    "job6.wait_for_final_state()\n",
    "print(job6.result().data.get_counts())\n",
    "\n",
    "job7 = noisy_simulator.submit(fake_torino_transformed_qc, shots=1024, seed=42)\n",
    "job7.wait_for_final_state()\n",
    "print(job7.result().data.get_counts())"
   ]
  },
  {
   "cell_type": "markdown",
   "id": "b863b0b9",
   "metadata": {},
   "source": [
    "If we don't transpile the circuit first, the execution may fail:"
   ]
  },
  {
   "cell_type": "code",
   "execution_count": 13,
   "id": "1298162c",
   "metadata": {},
   "outputs": [
    {
     "ename": "IBMInputValueError",
     "evalue": "'The instruction h on qubits (0,) is not supported by the target system. Circuits that do not match the target hardware definition are no longer supported after March 4, 2024. See the transpilation documentation (https://docs.quantum.ibm.com/guides/transpile) for instructions to transform circuits and the primitive examples (https://docs.quantum.ibm.com/guides/primitives-examples) to see this coupled with operator transformations.'",
     "output_type": "error",
     "traceback": [
      "\u001b[31m---------------------------------------------------------------------------\u001b[39m",
      "\u001b[31mIBMInputValueError\u001b[39m                        Traceback (most recent call last)",
      "\u001b[36mCell\u001b[39m\u001b[36m \u001b[39m\u001b[32mIn[13]\u001b[39m\u001b[32m, line 1\u001b[39m\n\u001b[32m----> \u001b[39m\u001b[32m1\u001b[39m \u001b[43mnoisy_simulator\u001b[49m\u001b[43m.\u001b[49m\u001b[43msubmit\u001b[49m\u001b[43m(\u001b[49m\u001b[43mqc\u001b[49m\u001b[43m,\u001b[49m\u001b[43m \u001b[49m\u001b[43mshots\u001b[49m\u001b[43m=\u001b[49m\u001b[32;43m1024\u001b[39;49m\u001b[43m)\u001b[49m\n",
      "\u001b[36mFile \u001b[39m\u001b[32m~/Documents/code/quantum-executor/src/quantum_executor/local_aer/device.py:166\u001b[39m, in \u001b[36mLocalAERBackend.submit\u001b[39m\u001b[34m(self, run_input, *_args, **kwargs)\u001b[39m\n\u001b[32m    163\u001b[39m     \u001b[38;5;28;01mraise\u001b[39;00m \u001b[38;5;167;01mValueError\u001b[39;00m(\u001b[33m\"\u001b[39m\u001b[33mInvalid run_input: expected a QuantumCircuit or a list of QuantumCircuits.\u001b[39m\u001b[33m\"\u001b[39m)\n\u001b[32m    165\u001b[39m sampler = Sampler(mode=\u001b[38;5;28mself\u001b[39m._backend, options=options)\n\u001b[32m--> \u001b[39m\u001b[32m166\u001b[39m job = \u001b[43msampler\u001b[49m\u001b[43m.\u001b[49m\u001b[43mrun\u001b[49m\u001b[43m(\u001b[49m\u001b[43mcircuits\u001b[49m\u001b[43m,\u001b[49m\u001b[43m \u001b[49m\u001b[43mshots\u001b[49m\u001b[43m=\u001b[49m\u001b[43mshots\u001b[49m\u001b[43m)\u001b[49m\n\u001b[32m    168\u001b[39m \u001b[38;5;28;01mreturn\u001b[39;00m QiskitJob(job.job_id(), job=job, device=\u001b[38;5;28mself\u001b[39m)\n",
      "\u001b[36mFile \u001b[39m\u001b[32m~/Documents/code/quantum-executor/.venv/lib/python3.12/site-packages/qiskit_ibm_runtime/sampler.py:110\u001b[39m, in \u001b[36mSamplerV2.run\u001b[39m\u001b[34m(self, pubs, shots)\u001b[39m\n\u001b[32m    106\u001b[39m coerced_pubs = [SamplerPub.coerce(pub, shots) \u001b[38;5;28;01mfor\u001b[39;00m pub \u001b[38;5;129;01min\u001b[39;00m pubs]\n\u001b[32m    108\u001b[39m validate_classical_registers(coerced_pubs)\n\u001b[32m--> \u001b[39m\u001b[32m110\u001b[39m \u001b[38;5;28;01mreturn\u001b[39;00m \u001b[38;5;28;43mself\u001b[39;49m\u001b[43m.\u001b[49m\u001b[43m_run\u001b[49m\u001b[43m(\u001b[49m\u001b[43mcoerced_pubs\u001b[49m\u001b[43m)\u001b[49m\n",
      "\u001b[36mFile \u001b[39m\u001b[32m~/Documents/code/quantum-executor/.venv/lib/python3.12/site-packages/qiskit_ibm_runtime/base_primitive.py:158\u001b[39m, in \u001b[36mBasePrimitiveV2._run\u001b[39m\u001b[34m(self, pubs)\u001b[39m\n\u001b[32m    156\u001b[39m \u001b[38;5;28;01mfor\u001b[39;00m pub \u001b[38;5;129;01min\u001b[39;00m pubs:\n\u001b[32m    157\u001b[39m     \u001b[38;5;28;01mif\u001b[39;00m \u001b[38;5;28mgetattr\u001b[39m(\u001b[38;5;28mself\u001b[39m._backend, \u001b[33m\"\u001b[39m\u001b[33mtarget\u001b[39m\u001b[33m\"\u001b[39m, \u001b[38;5;28;01mNone\u001b[39;00m) \u001b[38;5;129;01mand\u001b[39;00m \u001b[38;5;129;01mnot\u001b[39;00m is_simulator(\u001b[38;5;28mself\u001b[39m._backend):\n\u001b[32m--> \u001b[39m\u001b[32m158\u001b[39m         \u001b[43mvalidate_isa_circuits\u001b[49m\u001b[43m(\u001b[49m\u001b[43m[\u001b[49m\u001b[43mpub\u001b[49m\u001b[43m.\u001b[49m\u001b[43mcircuit\u001b[49m\u001b[43m]\u001b[49m\u001b[43m,\u001b[49m\u001b[43m \u001b[49m\u001b[38;5;28;43mself\u001b[39;49m\u001b[43m.\u001b[49m\u001b[43m_backend\u001b[49m\u001b[43m.\u001b[49m\u001b[43mtarget\u001b[49m\u001b[43m)\u001b[49m\n\u001b[32m    160\u001b[39m     \u001b[38;5;28;01mif\u001b[39;00m \u001b[38;5;28misinstance\u001b[39m(\u001b[38;5;28mself\u001b[39m._backend, IBMBackend):\n\u001b[32m    161\u001b[39m         \u001b[38;5;28mself\u001b[39m._backend.check_faulty(pub.circuit)\n",
      "\u001b[36mFile \u001b[39m\u001b[32m~/Documents/code/quantum-executor/.venv/lib/python3.12/site-packages/qiskit_ibm_runtime/utils/validations.py:90\u001b[39m, in \u001b[36mvalidate_isa_circuits\u001b[39m\u001b[34m(circuits, target)\u001b[39m\n\u001b[32m     88\u001b[39m message = is_isa_circuit(circuit, target)\n\u001b[32m     89\u001b[39m \u001b[38;5;28;01mif\u001b[39;00m message:\n\u001b[32m---> \u001b[39m\u001b[32m90\u001b[39m     \u001b[38;5;28;01mraise\u001b[39;00m IBMInputValueError(\n\u001b[32m     91\u001b[39m         message\n\u001b[32m     92\u001b[39m         + \u001b[33m\"\u001b[39m\u001b[33m Circuits that do not match the target hardware definition are no longer \u001b[39m\u001b[33m\"\u001b[39m\n\u001b[32m     93\u001b[39m         \u001b[33m\"\u001b[39m\u001b[33msupported after March 4, 2024. See the transpilation documentation \u001b[39m\u001b[33m\"\u001b[39m\n\u001b[32m     94\u001b[39m         \u001b[33m\"\u001b[39m\u001b[33m(https://docs.quantum.ibm.com/guides/transpile) for instructions \u001b[39m\u001b[33m\"\u001b[39m\n\u001b[32m     95\u001b[39m         \u001b[33m\"\u001b[39m\u001b[33mto transform circuits and the primitive examples \u001b[39m\u001b[33m\"\u001b[39m\n\u001b[32m     96\u001b[39m         \u001b[33m\"\u001b[39m\u001b[33m(https://docs.quantum.ibm.com/guides/primitives-examples) to see \u001b[39m\u001b[33m\"\u001b[39m\n\u001b[32m     97\u001b[39m         \u001b[33m\"\u001b[39m\u001b[33mthis coupled with operator transformations.\u001b[39m\u001b[33m\"\u001b[39m\n\u001b[32m     98\u001b[39m     )\n",
      "\u001b[31mIBMInputValueError\u001b[39m: 'The instruction h on qubits (0,) is not supported by the target system. Circuits that do not match the target hardware definition are no longer supported after March 4, 2024. See the transpilation documentation (https://docs.quantum.ibm.com/guides/transpile) for instructions to transform circuits and the primitive examples (https://docs.quantum.ibm.com/guides/primitives-examples) to see this coupled with operator transformations.'"
     ]
    }
   ],
   "source": [
    "noisy_simulator.submit(qc, shots=1024)"
   ]
  }
 ],
 "metadata": {
  "kernelspec": {
   "display_name": ".venv",
   "language": "python",
   "name": "python3"
  },
  "language_info": {
   "codemirror_mode": {
    "name": "ipython",
    "version": 3
   },
   "file_extension": ".py",
   "mimetype": "text/x-python",
   "name": "python",
   "nbconvert_exporter": "python",
   "pygments_lexer": "ipython3",
   "version": "3.12.3"
  }
 },
 "nbformat": 4,
 "nbformat_minor": 5
}
