{
 "cells": [
  {
   "cell_type": "markdown",
   "id": "b5931922",
   "metadata": {},
   "source": [
    "# QuantumExecutor Demo Notebook\n",
    "\n",
    "This notebook demonstrates how to use the `QuantumExecutor` class, which provides a unified interface for:\n",
    "\n",
    "- Splitting quantum jobs,\n",
    "- Dispatching them to different quantum backends,\n",
    "- Executing them either sequentially or in parallel,\n",
    "- And finally, aggregating the results.\n",
    "\n",
    "QuantumExecutor offers two ways to determine how to split and dispatch the jobs:\n",
    "\n",
    "1. **Dispatch Mode** – Enables to define directly a custom `Dispatch` object to manage multiple quantum circuits, enabling fine-grained control over their independent and parallel execution on different quantum backends.\n",
    "2. **Experiment Mode** – Determines dynamically how to dispatch the jobs through a split policy.\n",
    "\n",
    "Each modality supports four execution strategies:\n",
    "\n",
    "- **Synchronous Execution (non-blocking)** – Tasks still run one after the other in a demon thread without blocking the main thread.\n",
    "- **Synchronous Execution (blocking)** – Tasks run one after the other in the main thread.\n",
    "- **Asynchronous Execution (non-blocking)** – Tasks are dispatched using multiprocessing and do not block the main thread.\n",
    "- **Asynchronous Execution (blocking)** – Tasks run in parallel but the main thread waits until all are completed.\n",
    "\n",
    "Note: The term \"quantum backend\" refers to a quantum computer or simulator provided by platforms like IBM Quantum, IonQ, etc.\n",
    "\n",
    "> 💡 Before proceeding, make sure the required dependencies are installed: `qiskit`, `qbraid`, and other supporting libraries!"
   ]
  },
  {
   "cell_type": "markdown",
   "id": "aad9fff0",
   "metadata": {},
   "source": [
    "## 1. Setup and Imports\n",
    "\n",
    "We begin by importing the required libraries and setting up the environment."
   ]
  },
  {
   "cell_type": "code",
   "execution_count": 1,
   "id": "815a1de0",
   "metadata": {},
   "outputs": [],
   "source": [
    "# Import the QuantumExecutor class from the quantum_executor module\n",
    "# Import json for pretty printing\n",
    "import json\n",
    "\n",
    "# Import Qiskit components for circuit creation\n",
    "from qiskit import QuantumCircuit\n",
    "\n",
    "from quantum_executor import Dispatch\n",
    "from quantum_executor import QuantumExecutor"
   ]
  },
  {
   "cell_type": "markdown",
   "id": "749d9120",
   "metadata": {},
   "source": [
    "## 2. Initialize the QuantumExecutor\n",
    "\n",
    "We now instantiate the `QuantumExecutor`. In this example, we just use the local provider."
   ]
  },
  {
   "cell_type": "markdown",
   "id": "2c776d9a",
   "metadata": {},
   "source": [
    "To know the available providers we can use the static method `default_providers()`"
   ]
  },
  {
   "cell_type": "code",
   "execution_count": 2,
   "id": "f700487e",
   "metadata": {},
   "outputs": [
    {
     "data": {
      "text/plain": [
       "['azure', 'braket', 'ionq', 'local_aer', 'qbraid', 'qiskit']"
      ]
     },
     "execution_count": 2,
     "metadata": {},
     "output_type": "execute_result"
    }
   ],
   "source": [
    "QuantumExecutor.default_providers()"
   ]
  },
  {
   "cell_type": "code",
   "execution_count": 3,
   "id": "0fa474fb",
   "metadata": {},
   "outputs": [
    {
     "name": "stdout",
     "output_type": "stream",
     "text": [
      "Initialized providers: {'local_aer': <quantum_executor.local_aer.provider.LocalAERProvider object at 0x168ae7710>}\n"
     ]
    }
   ],
   "source": [
    "# Instantiate the QuantumExecutor.\n",
    "qe = QuantumExecutor(providers=[\"local_aer\"])\n",
    "print(\"Initialized providers:\", qe.providers)"
   ]
  },
  {
   "cell_type": "markdown",
   "id": "e3651bd9",
   "metadata": {},
   "source": [
    "## 2. Creating a Two Quantum Circuits\n",
    "\n",
    "We create two simple 2-qubit quantum circuits that prepares two Bell states."
   ]
  },
  {
   "cell_type": "code",
   "execution_count": 4,
   "id": "53c5a49a",
   "metadata": {},
   "outputs": [
    {
     "data": {
      "text/html": [
       "<pre style=\"word-wrap: normal;white-space: pre;background: #fff0;line-height: 1.1;font-family: &quot;Courier New&quot;,Courier,monospace\">        ┌───┐      ░ ┌─┐   \n",
       "   q_0: ┤ H ├──■───░─┤M├───\n",
       "        └───┘┌─┴─┐ ░ └╥┘┌─┐\n",
       "   q_1: ─────┤ X ├─░──╫─┤M├\n",
       "             └───┘ ░  ║ └╥┘\n",
       "meas: 2/══════════════╩══╩═\n",
       "                      0  1 </pre>"
      ],
      "text/plain": [
       "        ┌───┐      ░ ┌─┐   \n",
       "   q_0: ┤ H ├──■───░─┤M├───\n",
       "        └───┘┌─┴─┐ ░ └╥┘┌─┐\n",
       "   q_1: ─────┤ X ├─░──╫─┤M├\n",
       "             └───┘ ░  ║ └╥┘\n",
       "meas: 2/══════════════╩══╩═\n",
       "                      0  1 "
      ]
     },
     "execution_count": 4,
     "metadata": {},
     "output_type": "execute_result"
    }
   ],
   "source": [
    "# Create two simple 2-qubit quantum circuits that creates a Bell states\n",
    "qc = QuantumCircuit(2)\n",
    "qc.h(0)\n",
    "qc.cx(0, 1)\n",
    "qc.measure_all()\n",
    "qc.draw()"
   ]
  },
  {
   "cell_type": "code",
   "execution_count": 5,
   "id": "8fc72b5e",
   "metadata": {},
   "outputs": [
    {
     "data": {
      "text/html": [
       "<pre style=\"word-wrap: normal;white-space: pre;background: #fff0;line-height: 1.1;font-family: &quot;Courier New&quot;,Courier,monospace\">        ┌───┐      ░ ┌─┐   \n",
       "   q_0: ┤ H ├──■───░─┤M├───\n",
       "        ├───┤┌─┴─┐ ░ └╥┘┌─┐\n",
       "   q_1: ┤ H ├┤ X ├─░──╫─┤M├\n",
       "        └───┘└───┘ ░  ║ └╥┘\n",
       "meas: 2/══════════════╩══╩═\n",
       "                      0  1 </pre>"
      ],
      "text/plain": [
       "        ┌───┐      ░ ┌─┐   \n",
       "   q_0: ┤ H ├──■───░─┤M├───\n",
       "        ├───┤┌─┴─┐ ░ └╥┘┌─┐\n",
       "   q_1: ┤ H ├┤ X ├─░──╫─┤M├\n",
       "        └───┘└───┘ ░  ║ └╥┘\n",
       "meas: 2/══════════════╩══╩═\n",
       "                      0  1 "
      ]
     },
     "execution_count": 5,
     "metadata": {},
     "output_type": "execute_result"
    }
   ],
   "source": [
    "qc1 = QuantumCircuit(2)\n",
    "qc1.h(0)\n",
    "qc1.h(1)\n",
    "qc1.cx(0, 1)\n",
    "qc1.measure_all()\n",
    "qc1.draw()"
   ]
  },
  {
   "cell_type": "markdown",
   "id": "e3ce8af9",
   "metadata": {},
   "source": [
    "## 3. Running a Dispatch\n",
    "\n",
    "To have complete control of the backends configuration and of the execution process it is possible to directly run a custom `Dispatch`. With a `Dispatch` it is possible to add different jobs to be run together on multiple quantum computers (and/or on the same backend multiple times). Moreover it is possible, whenever the quantum device allows it, to specify custom configuration of the backend.\n",
    "\n",
    "In this demo we are going to run two circuits on two backend (the first will run both, the second just one of them), and we are going to specify a seed for the execution"
   ]
  },
  {
   "cell_type": "code",
   "execution_count": 6,
   "id": "580a5d38",
   "metadata": {},
   "outputs": [
    {
     "data": {
      "text/plain": [
       "Dispatch({'local_aer': {'fake_torino': [Job(id=209a24a1-64f7-420c-abea-157b37afcd9e, circuit_type=QuantumCircuit, shots=2048, config={'seed': 42}), Job(id=6f558a93-dc5a-4903-87dc-e0c87ee354db, circuit_type=QuantumCircuit, shots=1024, config={'seed': 41})], 'fake_oslo': [Job(id=bdb1b5b9-f44f-40af-ab90-ce8fc784d9bb, circuit_type=QuantumCircuit, shots=2048, config={'seed': 42})]}})"
      ]
     },
     "execution_count": 6,
     "metadata": {},
     "output_type": "execute_result"
    }
   ],
   "source": [
    "dispatch = Dispatch()\n",
    "dispatch.add_job(\n",
    "    provider_name=\"local_aer\",\n",
    "    backend_name=\"fake_torino\",\n",
    "    circuits=qc,\n",
    "    shots=2048,\n",
    "    config={\"seed\": 42},\n",
    ")\n",
    "dispatch.add_job(\n",
    "    provider_name=\"local_aer\",\n",
    "    backend_name=\"fake_oslo\",\n",
    "    circuits=qc1,\n",
    "    shots=2048,\n",
    "    config={\"seed\": 42},\n",
    ")\n",
    "dispatch.add_job(\n",
    "    provider_name=\"local_aer\",\n",
    "    backend_name=\"fake_torino\",\n",
    "    circuits=qc1,\n",
    "    shots=1024,\n",
    "    config={\"seed\": 41},\n",
    ")\n",
    "\n",
    "dispatch"
   ]
  },
  {
   "cell_type": "markdown",
   "id": "47b02679",
   "metadata": {},
   "source": [
    "However, equivalently, it is available an easier, low code way to define a dispatch through a dictionary:"
   ]
  },
  {
   "cell_type": "code",
   "execution_count": 7,
   "id": "0e62046d",
   "metadata": {},
   "outputs": [
    {
     "data": {
      "text/plain": [
       "{'local_aer': {'fake_torino': [{'circuit': <qiskit.circuit.quantumcircuit.QuantumCircuit at 0x168ae7dd0>,\n",
       "    'shots': 2048,\n",
       "    'config': {'seed': 42}},\n",
       "   {'circuit': <qiskit.circuit.quantumcircuit.QuantumCircuit at 0x1693cc410>,\n",
       "    'shots': 1024,\n",
       "    'config': {'seed': 41}}],\n",
       "  'fake_oslo': [{'circuit': <qiskit.circuit.quantumcircuit.QuantumCircuit at 0x1693cc410>,\n",
       "    'shots': 2048,\n",
       "    'config': {'seed': 42}}]}}"
      ]
     },
     "execution_count": 7,
     "metadata": {},
     "output_type": "execute_result"
    }
   ],
   "source": [
    "dispatch = {\n",
    "    \"local_aer\": {\n",
    "        \"fake_torino\": [\n",
    "            {\n",
    "                \"circuit\": qc,\n",
    "                \"shots\": 2048,\n",
    "                \"config\": {\"seed\": 42},\n",
    "            },\n",
    "            {\n",
    "                \"circuit\": qc1,\n",
    "                \"shots\": 1024,\n",
    "                \"config\": {\"seed\": 41},\n",
    "            },\n",
    "        ],\n",
    "        \"fake_oslo\": [\n",
    "            {\n",
    "                \"circuit\": qc1,\n",
    "                \"shots\": 2048,\n",
    "                \"config\": {\"seed\": 42},\n",
    "            },\n",
    "        ],\n",
    "    }\n",
    "}\n",
    "\n",
    "dispatch"
   ]
  },
  {
   "cell_type": "markdown",
   "id": "87ac5d92",
   "metadata": {},
   "source": [
    "We can run a `Dispatch` synchronously in the main thread specifying `multiprocess=False` and `wait=True`"
   ]
  },
  {
   "cell_type": "code",
   "execution_count": 8,
   "id": "d06cebd1",
   "metadata": {},
   "outputs": [
    {
     "data": {
      "text/plain": [
       "ResultCollector({'local_aer': {'fake_torino': [JobResult(job=Job(id=b583bc09-dc91-44c0-9ffa-33061f60dc69, circuit_type=QuantumCircuit, shots=2048, config={}), status=Complete, data={'00': 1034, '01': 20, '10': 19, '11': 975}), JobResult(job=Job(id=009e8e0e-b37a-4166-b6ac-764e4b21eb22, circuit_type=QuantumCircuit, shots=1024, config={}), status=Complete, data={'00': 262, '01': 249, '10': 255, '11': 258})], 'fake_oslo': [JobResult(job=Job(id=f452d797-7c89-4749-90bd-0c32de26bbb1, circuit_type=QuantumCircuit, shots=2048, config={}), status=Complete, data={'00': 514, '01': 537, '10': 471, '11': 526})]}})"
      ]
     },
     "execution_count": 8,
     "metadata": {},
     "output_type": "execute_result"
    }
   ],
   "source": [
    "res = qe.run_dispatch(\n",
    "    dispatch=dispatch,\n",
    "    multiprocess=False,\n",
    "    wait=True,\n",
    ")\n",
    "\n",
    "res"
   ]
  },
  {
   "cell_type": "markdown",
   "id": "a84b4e45",
   "metadata": {},
   "source": [
    "Or synchronously but in a daemon thread with `multiprocess=False` and `wait=False`"
   ]
  },
  {
   "cell_type": "code",
   "execution_count": 9,
   "id": "a02905b1",
   "metadata": {},
   "outputs": [
    {
     "data": {
      "text/plain": [
       "ResultCollector(complete_results=0, total_results=3, complete=False)"
      ]
     },
     "execution_count": 9,
     "metadata": {},
     "output_type": "execute_result"
    }
   ],
   "source": [
    "res1 = qe.run_dispatch(\n",
    "    dispatch=dispatch,\n",
    "    multiprocess=False,\n",
    "    wait=False,\n",
    ")\n",
    "\n",
    "res1"
   ]
  },
  {
   "cell_type": "markdown",
   "id": "25efe955",
   "metadata": {},
   "source": [
    "In this case, the `run_dispatch` function ends immediately and we can poll whenever we want the results, as soon as a result became available we can already using it even if other quantum computer are still not retuning the results."
   ]
  },
  {
   "cell_type": "code",
   "execution_count": 10,
   "id": "e5e466a8",
   "metadata": {},
   "outputs": [
    {
     "name": "stdout",
     "output_type": "stream",
     "text": [
      "Waiting for results...\n",
      "ResultCollector(complete_results=0, total_results=3, complete=False)\n",
      "{\n",
      "    \"local_aer\": {\n",
      "        \"fake_torino\": [\n",
      "            null,\n",
      "            null\n",
      "        ],\n",
      "        \"fake_oslo\": [\n",
      "            null\n",
      "        ]\n",
      "    }\n",
      "}\n",
      "Waiting for results...\n",
      "ResultCollector(complete_results=0, total_results=3, complete=False)\n",
      "{\n",
      "    \"local_aer\": {\n",
      "        \"fake_torino\": [\n",
      "            null,\n",
      "            null\n",
      "        ],\n",
      "        \"fake_oslo\": [\n",
      "            null\n",
      "        ]\n",
      "    }\n",
      "}\n",
      "Waiting for results...\n",
      "ResultCollector(complete_results=0, total_results=3, complete=False)\n",
      "{\n",
      "    \"local_aer\": {\n",
      "        \"fake_torino\": [\n",
      "            null,\n",
      "            null\n",
      "        ],\n",
      "        \"fake_oslo\": [\n",
      "            null\n",
      "        ]\n",
      "    }\n",
      "}\n",
      "Waiting for results...\n",
      "ResultCollector(complete_results=0, total_results=3, complete=False)\n",
      "{\n",
      "    \"local_aer\": {\n",
      "        \"fake_torino\": [\n",
      "            null,\n",
      "            null\n",
      "        ],\n",
      "        \"fake_oslo\": [\n",
      "            null\n",
      "        ]\n",
      "    }\n",
      "}\n",
      "Waiting for results...\n",
      "ResultCollector(complete_results=1, total_results=3, complete=False)\n",
      "{\n",
      "    \"local_aer\": {\n",
      "        \"fake_torino\": [\n",
      "            {\n",
      "                \"00\": 1007,\n",
      "                \"01\": 31,\n",
      "                \"10\": 15,\n",
      "                \"11\": 995\n",
      "            },\n",
      "            null\n",
      "        ],\n",
      "        \"fake_oslo\": [\n",
      "            null\n",
      "        ]\n",
      "    }\n",
      "}\n",
      "Waiting for results...\n",
      "ResultCollector(complete_results=1, total_results=3, complete=False)\n",
      "{\n",
      "    \"local_aer\": {\n",
      "        \"fake_torino\": [\n",
      "            {\n",
      "                \"00\": 1007,\n",
      "                \"01\": 31,\n",
      "                \"10\": 15,\n",
      "                \"11\": 995\n",
      "            },\n",
      "            null\n",
      "        ],\n",
      "        \"fake_oslo\": [\n",
      "            null\n",
      "        ]\n",
      "    }\n",
      "}\n",
      "Waiting for results...\n",
      "ResultCollector(complete_results=1, total_results=3, complete=False)\n",
      "{\n",
      "    \"local_aer\": {\n",
      "        \"fake_torino\": [\n",
      "            {\n",
      "                \"00\": 1007,\n",
      "                \"01\": 31,\n",
      "                \"10\": 15,\n",
      "                \"11\": 995\n",
      "            },\n",
      "            null\n",
      "        ],\n",
      "        \"fake_oslo\": [\n",
      "            null\n",
      "        ]\n",
      "    }\n",
      "}\n",
      "Waiting for results...\n",
      "ResultCollector(complete_results=1, total_results=3, complete=False)\n",
      "{\n",
      "    \"local_aer\": {\n",
      "        \"fake_torino\": [\n",
      "            {\n",
      "                \"00\": 1007,\n",
      "                \"01\": 31,\n",
      "                \"10\": 15,\n",
      "                \"11\": 995\n",
      "            },\n",
      "            null\n",
      "        ],\n",
      "        \"fake_oslo\": [\n",
      "            null\n",
      "        ]\n",
      "    }\n",
      "}\n",
      "Waiting for results...\n",
      "ResultCollector(complete_results=1, total_results=3, complete=False)\n",
      "{\n",
      "    \"local_aer\": {\n",
      "        \"fake_torino\": [\n",
      "            {\n",
      "                \"00\": 1007,\n",
      "                \"01\": 31,\n",
      "                \"10\": 15,\n",
      "                \"11\": 995\n",
      "            },\n",
      "            null\n",
      "        ],\n",
      "        \"fake_oslo\": [\n",
      "            null\n",
      "        ]\n",
      "    }\n",
      "}\n",
      "Results are ready!\n"
     ]
    }
   ],
   "source": [
    "import time\n",
    "\n",
    "while not res1.complete:\n",
    "    print(\"Waiting for results...\")\n",
    "    print(res1)\n",
    "    print(json.dumps(res1.get_results(), indent=4))\n",
    "    time.sleep(1)\n",
    "print(\"Results are ready!\")"
   ]
  },
  {
   "cell_type": "code",
   "execution_count": 11,
   "id": "f30df897",
   "metadata": {},
   "outputs": [
    {
     "name": "stdout",
     "output_type": "stream",
     "text": [
      "{\n",
      "    \"local_aer\": {\n",
      "        \"fake_torino\": [\n",
      "            {\n",
      "                \"00\": 1007,\n",
      "                \"01\": 31,\n",
      "                \"10\": 15,\n",
      "                \"11\": 995\n",
      "            },\n",
      "            {\n",
      "                \"00\": 256,\n",
      "                \"01\": 254,\n",
      "                \"10\": 234,\n",
      "                \"11\": 280\n",
      "            }\n",
      "        ],\n",
      "        \"fake_oslo\": [\n",
      "            {\n",
      "                \"00\": 496,\n",
      "                \"01\": 502,\n",
      "                \"10\": 493,\n",
      "                \"11\": 557\n",
      "            }\n",
      "        ]\n",
      "    }\n",
      "}\n"
     ]
    }
   ],
   "source": [
    "print(json.dumps(res1.get_results(), indent=4))"
   ]
  },
  {
   "cell_type": "markdown",
   "id": "8b842659",
   "metadata": {},
   "source": [
    "We can run a `Dispatch` asynchronously with `multiprocess=True`, in this case it is possible to specify if we want a blocking call waiting for the results with `wait=True`"
   ]
  },
  {
   "cell_type": "code",
   "execution_count": 12,
   "id": "e745f50b",
   "metadata": {},
   "outputs": [
    {
     "data": {
      "text/plain": [
       "ResultCollector({'local_aer': {'fake_torino': [JobResult(job=Job(id=c12e335b-5af2-4967-b5bd-0743e98118d6, circuit_type=QuantumCircuit, shots=2048, config={}), status=Complete, data={'00': 1024, '01': 33, '10': 17, '11': 974}), JobResult(job=Job(id=98c89b82-28b9-42ec-9f80-9cbdf88a42e6, circuit_type=QuantumCircuit, shots=1024, config={}), status=Complete, data={'00': 261, '01': 253, '10': 253, '11': 257})], 'fake_oslo': [JobResult(job=Job(id=cc07301d-fb46-447c-8a54-91b0b0caacd7, circuit_type=QuantumCircuit, shots=2048, config={}), status=Complete, data={'00': 554, '01': 463, '10': 508, '11': 523})]}})"
      ]
     },
     "execution_count": 12,
     "metadata": {},
     "output_type": "execute_result"
    }
   ],
   "source": [
    "res2 = qe.run_dispatch(dispatch=dispatch, multiprocess=True, wait=True)\n",
    "\n",
    "res2"
   ]
  },
  {
   "cell_type": "markdown",
   "id": "c215881f",
   "metadata": {},
   "source": [
    "Or with a non-blocking call with `wait=True`. "
   ]
  },
  {
   "cell_type": "code",
   "execution_count": 13,
   "id": "b778a3f0",
   "metadata": {},
   "outputs": [
    {
     "data": {
      "text/plain": [
       "ResultCollector(complete_results=0, total_results=3, complete=False)"
      ]
     },
     "execution_count": 13,
     "metadata": {},
     "output_type": "execute_result"
    }
   ],
   "source": [
    "res3 = qe.run_dispatch(dispatch=dispatch, multiprocess=True, wait=False)\n",
    "\n",
    "res3"
   ]
  },
  {
   "cell_type": "code",
   "execution_count": 14,
   "id": "e421c86b",
   "metadata": {},
   "outputs": [
    {
     "name": "stdout",
     "output_type": "stream",
     "text": [
      "Waiting for results...\n",
      "ResultCollector(complete_results=0, total_results=3, complete=False)\n",
      "{\n",
      "    \"local_aer\": {\n",
      "        \"fake_torino\": [\n",
      "            null,\n",
      "            null\n",
      "        ],\n",
      "        \"fake_oslo\": [\n",
      "            null\n",
      "        ]\n",
      "    }\n",
      "}\n",
      "Waiting for results...\n",
      "ResultCollector(complete_results=0, total_results=3, complete=False)\n",
      "{\n",
      "    \"local_aer\": {\n",
      "        \"fake_torino\": [\n",
      "            null,\n",
      "            null\n",
      "        ],\n",
      "        \"fake_oslo\": [\n",
      "            null\n",
      "        ]\n",
      "    }\n",
      "}\n",
      "Waiting for results...\n",
      "ResultCollector(complete_results=0, total_results=3, complete=False)\n",
      "{\n",
      "    \"local_aer\": {\n",
      "        \"fake_torino\": [\n",
      "            null,\n",
      "            null\n",
      "        ],\n",
      "        \"fake_oslo\": [\n",
      "            null\n",
      "        ]\n",
      "    }\n",
      "}\n",
      "Waiting for results...\n",
      "ResultCollector(complete_results=1, total_results=3, complete=False)\n",
      "{\n",
      "    \"local_aer\": {\n",
      "        \"fake_torino\": [\n",
      "            null,\n",
      "            null\n",
      "        ],\n",
      "        \"fake_oslo\": [\n",
      "            {\n",
      "                \"00\": 543,\n",
      "                \"01\": 473,\n",
      "                \"10\": 535,\n",
      "                \"11\": 497\n",
      "            }\n",
      "        ]\n",
      "    }\n",
      "}\n",
      "Waiting for results...\n",
      "ResultCollector(complete_results=1, total_results=3, complete=False)\n",
      "{\n",
      "    \"local_aer\": {\n",
      "        \"fake_torino\": [\n",
      "            null,\n",
      "            null\n",
      "        ],\n",
      "        \"fake_oslo\": [\n",
      "            {\n",
      "                \"00\": 543,\n",
      "                \"01\": 473,\n",
      "                \"10\": 535,\n",
      "                \"11\": 497\n",
      "            }\n",
      "        ]\n",
      "    }\n",
      "}\n",
      "Waiting for results...\n",
      "ResultCollector(complete_results=1, total_results=3, complete=False)\n",
      "{\n",
      "    \"local_aer\": {\n",
      "        \"fake_torino\": [\n",
      "            null,\n",
      "            null\n",
      "        ],\n",
      "        \"fake_oslo\": [\n",
      "            {\n",
      "                \"00\": 543,\n",
      "                \"01\": 473,\n",
      "                \"10\": 535,\n",
      "                \"11\": 497\n",
      "            }\n",
      "        ]\n",
      "    }\n",
      "}\n",
      "Waiting for results...\n",
      "ResultCollector(complete_results=1, total_results=3, complete=False)\n",
      "{\n",
      "    \"local_aer\": {\n",
      "        \"fake_torino\": [\n",
      "            null,\n",
      "            null\n",
      "        ],\n",
      "        \"fake_oslo\": [\n",
      "            {\n",
      "                \"00\": 543,\n",
      "                \"01\": 473,\n",
      "                \"10\": 535,\n",
      "                \"11\": 497\n",
      "            }\n",
      "        ]\n",
      "    }\n",
      "}\n",
      "Results are ready!\n"
     ]
    }
   ],
   "source": [
    "while not res3.complete:\n",
    "    print(\"Waiting for results...\")\n",
    "    print(res3)\n",
    "    print(json.dumps(res3.get_results(), indent=4))\n",
    "    time.sleep(1)\n",
    "print(\"Results are ready!\")"
   ]
  },
  {
   "cell_type": "code",
   "execution_count": 15,
   "id": "1d3ee18b",
   "metadata": {},
   "outputs": [
    {
     "name": "stdout",
     "output_type": "stream",
     "text": [
      "{\n",
      "    \"local_aer\": {\n",
      "        \"fake_torino\": [\n",
      "            {\n",
      "                \"00\": 1022,\n",
      "                \"01\": 22,\n",
      "                \"10\": 23,\n",
      "                \"11\": 981\n",
      "            },\n",
      "            {\n",
      "                \"00\": 277,\n",
      "                \"01\": 255,\n",
      "                \"10\": 260,\n",
      "                \"11\": 232\n",
      "            }\n",
      "        ],\n",
      "        \"fake_oslo\": [\n",
      "            {\n",
      "                \"00\": 543,\n",
      "                \"01\": 473,\n",
      "                \"10\": 535,\n",
      "                \"11\": 497\n",
      "            }\n",
      "        ]\n",
      "    }\n",
      "}\n"
     ]
    }
   ],
   "source": [
    "print(json.dumps(res3.get_results(), indent=4))"
   ]
  },
  {
   "cell_type": "markdown",
   "id": "3952b53c",
   "metadata": {},
   "source": [
    "## 4. Aggregating the Results\n",
    "\n",
    "Through the QuantumExecutor, it is also possible to dynamically and automatically analyse and aggregate the output data. This is done through a `merge` function which can be (optionally) specified to run automatically after all the result are aggregated."
   ]
  },
  {
   "cell_type": "markdown",
   "id": "99f2f8bf",
   "metadata": {},
   "source": [
    "### 4.1 Running a Default policy\n",
    "First, we will show how to use one of the pre-defined policies, the how it is possible to define a custom `merge` policy.\n",
    "\n",
    "Run the aggregation policy is easy and straightforward, it is just an additional parameter in the run function."
   ]
  },
  {
   "cell_type": "code",
   "execution_count": 16,
   "id": "e2be34c2",
   "metadata": {},
   "outputs": [
    {
     "data": {
      "text/plain": [
       "MergedResultCollector(complete_results=0, total_results=3, complete=False)"
      ]
     },
     "execution_count": 16,
     "metadata": {},
     "output_type": "execute_result"
    }
   ],
   "source": [
    "res4 = qe.run_dispatch(dispatch=dispatch, merge_policy=\"simple_aggregate\", multiprocess=True, wait=False)\n",
    "\n",
    "res4"
   ]
  },
  {
   "cell_type": "markdown",
   "id": "b69dcd41",
   "metadata": {},
   "source": [
    "The `simple-aggregate` policy just sums together all the output of the quantum backends, different policies can be specified or add to the QuantumExecutor. While the dispatch is running, it is still possible to access the partial results.\n",
    "\n",
    "> Note that the merge policy is independent from the execution modes, i.e., it can be used both with and without multiprocessing"
   ]
  },
  {
   "cell_type": "code",
   "execution_count": 17,
   "id": "7f51cdd8",
   "metadata": {},
   "outputs": [
    {
     "name": "stdout",
     "output_type": "stream",
     "text": [
      "Waiting for results...\n",
      "MergedResultCollector(complete_results=0, total_results=3, complete=False)\n",
      "{\n",
      "    \"local_aer\": {\n",
      "        \"fake_torino\": [\n",
      "            null,\n",
      "            null\n",
      "        ],\n",
      "        \"fake_oslo\": [\n",
      "            null\n",
      "        ]\n",
      "    }\n",
      "}\n",
      "Waiting for results...\n",
      "MergedResultCollector(complete_results=0, total_results=3, complete=False)\n",
      "{\n",
      "    \"local_aer\": {\n",
      "        \"fake_torino\": [\n",
      "            null,\n",
      "            null\n",
      "        ],\n",
      "        \"fake_oslo\": [\n",
      "            null\n",
      "        ]\n",
      "    }\n",
      "}\n",
      "Waiting for results...\n",
      "MergedResultCollector(complete_results=1, total_results=3, complete=False)\n",
      "{\n",
      "    \"local_aer\": {\n",
      "        \"fake_torino\": [\n",
      "            null,\n",
      "            null\n",
      "        ],\n",
      "        \"fake_oslo\": [\n",
      "            {\n",
      "                \"00\": 505,\n",
      "                \"01\": 480,\n",
      "                \"10\": 584,\n",
      "                \"11\": 479\n",
      "            }\n",
      "        ]\n",
      "    }\n",
      "}\n",
      "Waiting for results...\n",
      "MergedResultCollector(complete_results=1, total_results=3, complete=False)\n",
      "{\n",
      "    \"local_aer\": {\n",
      "        \"fake_torino\": [\n",
      "            null,\n",
      "            null\n",
      "        ],\n",
      "        \"fake_oslo\": [\n",
      "            {\n",
      "                \"00\": 505,\n",
      "                \"01\": 480,\n",
      "                \"10\": 584,\n",
      "                \"11\": 479\n",
      "            }\n",
      "        ]\n",
      "    }\n",
      "}\n",
      "Waiting for results...\n",
      "MergedResultCollector(complete_results=1, total_results=3, complete=False)\n",
      "{\n",
      "    \"local_aer\": {\n",
      "        \"fake_torino\": [\n",
      "            null,\n",
      "            null\n",
      "        ],\n",
      "        \"fake_oslo\": [\n",
      "            {\n",
      "                \"00\": 505,\n",
      "                \"01\": 480,\n",
      "                \"10\": 584,\n",
      "                \"11\": 479\n",
      "            }\n",
      "        ]\n",
      "    }\n",
      "}\n",
      "Waiting for results...\n",
      "MergedResultCollector(complete_results=1, total_results=3, complete=False)\n",
      "{\n",
      "    \"local_aer\": {\n",
      "        \"fake_torino\": [\n",
      "            null,\n",
      "            null\n",
      "        ],\n",
      "        \"fake_oslo\": [\n",
      "            {\n",
      "                \"00\": 505,\n",
      "                \"01\": 480,\n",
      "                \"10\": 584,\n",
      "                \"11\": 479\n",
      "            }\n",
      "        ]\n",
      "    }\n",
      "}\n",
      "Waiting for results...\n",
      "MergedResultCollector(complete_results=2, total_results=3, complete=False)\n",
      "{\n",
      "    \"local_aer\": {\n",
      "        \"fake_torino\": [\n",
      "            null,\n",
      "            {\n",
      "                \"00\": 255,\n",
      "                \"01\": 247,\n",
      "                \"10\": 266,\n",
      "                \"11\": 256\n",
      "            }\n",
      "        ],\n",
      "        \"fake_oslo\": [\n",
      "            {\n",
      "                \"00\": 505,\n",
      "                \"01\": 480,\n",
      "                \"10\": 584,\n",
      "                \"11\": 479\n",
      "            }\n",
      "        ]\n",
      "    }\n",
      "}\n",
      "Results are ready!\n"
     ]
    }
   ],
   "source": [
    "while not res4.complete:\n",
    "    print(\"Waiting for results...\")\n",
    "    print(res4)\n",
    "    print(json.dumps(res4.get_results(), indent=4))\n",
    "    time.sleep(1)\n",
    "print(\"Results are ready!\")"
   ]
  },
  {
   "cell_type": "code",
   "execution_count": 18,
   "id": "0afbbb23",
   "metadata": {},
   "outputs": [
    {
     "name": "stdout",
     "output_type": "stream",
     "text": [
      "{\n",
      "    \"local_aer\": {\n",
      "        \"fake_torino\": [\n",
      "            {\n",
      "                \"00\": 1001,\n",
      "                \"01\": 29,\n",
      "                \"10\": 15,\n",
      "                \"11\": 1003\n",
      "            },\n",
      "            {\n",
      "                \"00\": 255,\n",
      "                \"01\": 247,\n",
      "                \"10\": 266,\n",
      "                \"11\": 256\n",
      "            }\n",
      "        ],\n",
      "        \"fake_oslo\": [\n",
      "            {\n",
      "                \"00\": 505,\n",
      "                \"01\": 480,\n",
      "                \"10\": 584,\n",
      "                \"11\": 479\n",
      "            }\n",
      "        ]\n",
      "    }\n",
      "}\n"
     ]
    }
   ],
   "source": [
    "print(json.dumps(res4.get_results(), indent=4))"
   ]
  },
  {
   "cell_type": "code",
   "execution_count": 19,
   "id": "36190a8b",
   "metadata": {},
   "outputs": [
    {
     "data": {
      "text/plain": [
       "MergedResultCollector(merged_results={'00': 1761, '01': 756, '10': 865, '11': 1738}, initial_policy_data={}, final_policy_data={})"
      ]
     },
     "execution_count": 19,
     "metadata": {},
     "output_type": "execute_result"
    }
   ],
   "source": [
    "res4"
   ]
  },
  {
   "cell_type": "markdown",
   "id": "78282d67",
   "metadata": {},
   "source": [
    "We can get the merged results with"
   ]
  },
  {
   "cell_type": "code",
   "execution_count": 20,
   "id": "68c331a6",
   "metadata": {},
   "outputs": [
    {
     "data": {
      "text/plain": [
       "{'00': 1761, '01': 756, '10': 865, '11': 1738}"
      ]
     },
     "execution_count": 20,
     "metadata": {},
     "output_type": "execute_result"
    }
   ],
   "source": [
    "res4.get_merged_results()"
   ]
  },
  {
   "cell_type": "markdown",
   "id": "d9876278",
   "metadata": {},
   "source": [
    "### 4.2 Running a Custom policy\n",
    "\n",
    "Now we are going to develop a policy which first sums all the contributions from the different quantum backends and the select the state with the maximum frequency, a merge policy requires in input the dictionary of results some optional additional data (which we will not use in this demo)."
   ]
  },
  {
   "cell_type": "code",
   "execution_count": 21,
   "id": "0cc37374",
   "metadata": {},
   "outputs": [],
   "source": [
    "from typing import Any\n",
    "\n",
    "from quantum_executor import Dispatch\n",
    "from quantum_executor import VirtualProvider\n",
    "from quantum_executor.job_runner import ResultData\n",
    "\n",
    "\n",
    "def merge(\n",
    "    results: dict[str, dict[str, list[ResultData]]],\n",
    "    policy_data: Any,  # noqa: ANN401\n",
    ") -> tuple[dict[str, int], Any]:\n",
    "    \"\"\"\n",
    "    Merge job results by summing bitstring counts, the return the state with the maximum count.\n",
    "\n",
    "    Parameters\n",
    "    ----------\n",
    "    results : Dict[str, Dict[str, List[ResultData]]]\n",
    "        Nested mapping (provider -> backend -> list of ResultData objects).\n",
    "    policy_data : Any\n",
    "        Additional data carried along; not used in this policy.\n",
    "\n",
    "    Returns\n",
    "    -------\n",
    "    Tuple[Dict, Any]\n",
    "        A tuple containing the merged counts dictionary and the unchanged blob.\n",
    "\n",
    "    \"\"\"\n",
    "    merged_results: dict[str, int] = {}\n",
    "    for _, provider_results in results.items():\n",
    "        for _, job_results in provider_results.items():\n",
    "            for result_data in job_results:\n",
    "                if result_data is not None and isinstance(result_data, dict):\n",
    "                    for bitstring, count in result_data.items():\n",
    "                        if isinstance(count, int):\n",
    "                            merged_results[bitstring] = merged_results.get(bitstring, 0) + count\n",
    "\n",
    "    # Find the bitstring with the maximum count\n",
    "    max_bitstring = max(merged_results, key=merged_results.get)\n",
    "    max_count = merged_results[max_bitstring]\n",
    "    merged_results = {max_bitstring: max_count}\n",
    "\n",
    "    return merged_results, policy_data"
   ]
  },
  {
   "cell_type": "markdown",
   "id": "f2edeff0",
   "metadata": {},
   "source": [
    "We can now register this policy on the `QuantumExecutor`:"
   ]
  },
  {
   "cell_type": "code",
   "execution_count": 22,
   "id": "97bffb0e",
   "metadata": {},
   "outputs": [],
   "source": [
    "qe.add_policy(name=\"max_frequency\", merge_policy=merge)"
   ]
  },
  {
   "cell_type": "markdown",
   "id": "a6680aee",
   "metadata": {},
   "source": [
    "And then run the circuit. This time we run the experiment asynchronously."
   ]
  },
  {
   "cell_type": "code",
   "execution_count": 23,
   "id": "4c37c886",
   "metadata": {},
   "outputs": [
    {
     "data": {
      "text/plain": [
       "MergedResultCollector(complete_results=0, total_results=3, complete=False)"
      ]
     },
     "execution_count": 23,
     "metadata": {},
     "output_type": "execute_result"
    }
   ],
   "source": [
    "res5 = qe.run_dispatch(dispatch=dispatch, merge_policy=\"max_frequency\", multiprocess=True, wait=False)\n",
    "\n",
    "res5"
   ]
  },
  {
   "cell_type": "code",
   "execution_count": 24,
   "id": "884a9e1f",
   "metadata": {},
   "outputs": [
    {
     "data": {
      "text/plain": [
       "True"
      ]
     },
     "execution_count": 24,
     "metadata": {},
     "output_type": "execute_result"
    }
   ],
   "source": [
    "res5.wait_for_completion()"
   ]
  },
  {
   "cell_type": "code",
   "execution_count": 25,
   "id": "cc851af1",
   "metadata": {},
   "outputs": [
    {
     "data": {
      "text/plain": [
       "MergedResultCollector(merged_results={'00': 1851}, initial_policy_data={}, final_policy_data={})"
      ]
     },
     "execution_count": 25,
     "metadata": {},
     "output_type": "execute_result"
    }
   ],
   "source": [
    "res5"
   ]
  },
  {
   "cell_type": "code",
   "execution_count": 26,
   "id": "d4986331",
   "metadata": {},
   "outputs": [
    {
     "data": {
      "text/plain": [
       "{'00': 1851}"
      ]
     },
     "execution_count": 26,
     "metadata": {},
     "output_type": "execute_result"
    }
   ],
   "source": [
    "res5.get_merged_results()"
   ]
  },
  {
   "cell_type": "markdown",
   "id": "bf4b0852",
   "metadata": {},
   "source": [
    "## 5. Running an Experiment through a Dynamic Dispatch Policy\n",
    "\n",
    "Finally, for more sophisticated experimentation is instead possible to define dynamically the Dispatch to run through a split policy."
   ]
  },
  {
   "cell_type": "markdown",
   "id": "1be4cb58",
   "metadata": {},
   "source": [
    "### 5.1 Using a Default Policy\n",
    "Similarly to the merge policy, there are some default policies like, the uniform policy which splits equally the shots of a circuit among all the quantum backends specified, of course more sophisticated polciies can be defined according to the specific use case."
   ]
  },
  {
   "cell_type": "markdown",
   "id": "d7190824",
   "metadata": {},
   "source": [
    "First, we have to specify the backends we want to employ."
   ]
  },
  {
   "cell_type": "code",
   "execution_count": 27,
   "id": "594ca05b",
   "metadata": {},
   "outputs": [],
   "source": [
    "backends = {\"local_aer\": [\"fake_torino\", \"fake_oslo\"]}"
   ]
  },
  {
   "cell_type": "markdown",
   "id": "d5413f4f",
   "metadata": {},
   "source": [
    "backends = {\n",
    "    \"local\": [\"fake_torino\", \"fake_oslo\"]\n",
    "}"
   ]
  },
  {
   "cell_type": "markdown",
   "id": "eb9c51dc",
   "metadata": {},
   "source": [
    "Now, we can run our experiment."
   ]
  },
  {
   "cell_type": "code",
   "execution_count": 28,
   "id": "ff62a7ef",
   "metadata": {},
   "outputs": [
    {
     "data": {
      "text/plain": [
       "ResultCollector({'local_aer': {'fake_torino': [JobResult(job=Job(id=84eed947-76ac-4f15-b2ee-2ee8b7959416, circuit_type=QuantumCircuit, shots=512, config={}), status=Complete, data={'00': 235, '01': 9, '10': 4, '11': 264})], 'fake_oslo': [JobResult(job=Job(id=1b33c0fd-58f8-4a8e-a9b1-227912dbac9c, circuit_type=QuantumCircuit, shots=512, config={}), status=Complete, data={'00': 239, '01': 3, '10': 6, '11': 264})]}})"
      ]
     },
     "execution_count": 28,
     "metadata": {},
     "output_type": "execute_result"
    }
   ],
   "source": [
    "res6 = qe.run_experiment(\n",
    "    circuit=qc,\n",
    "    shots=1024,\n",
    "    backends=backends,\n",
    "    split_policy=\"uniform\",\n",
    "    wait=True,\n",
    ")\n",
    "\n",
    "res6"
   ]
  },
  {
   "cell_type": "code",
   "execution_count": 29,
   "id": "24a2c45f",
   "metadata": {},
   "outputs": [
    {
     "name": "stdout",
     "output_type": "stream",
     "text": [
      "{\n",
      "    \"local_aer\": {\n",
      "        \"fake_torino\": [\n",
      "            {\n",
      "                \"00\": 235,\n",
      "                \"01\": 9,\n",
      "                \"10\": 4,\n",
      "                \"11\": 264\n",
      "            }\n",
      "        ],\n",
      "        \"fake_oslo\": [\n",
      "            {\n",
      "                \"00\": 239,\n",
      "                \"01\": 3,\n",
      "                \"10\": 6,\n",
      "                \"11\": 264\n",
      "            }\n",
      "        ]\n",
      "    }\n",
      "}\n"
     ]
    }
   ],
   "source": [
    "print(json.dumps(res6.get_results(), indent=4))"
   ]
  },
  {
   "cell_type": "markdown",
   "id": "88f40e84",
   "metadata": {},
   "source": [
    "### 5.2 Running a Custom policy\n",
    "In this demo are going to develop a `custom-multiplier` policy (which mimics the behaviour of the `multiplier` policy already available among the default policies). Such a policy is the complimentary of the `uniform` policy, that is, it runs the same number of shots on each specified backend. \n",
    "\n",
    "A split policy requires the circuit and the associated number of shots, as well as the backends to employ and optional additional policy data, finally the virtual provider (see the relative) demo, it is also passed."
   ]
  },
  {
   "cell_type": "code",
   "execution_count": 30,
   "id": "25b0a2c2",
   "metadata": {},
   "outputs": [],
   "source": [
    "from typing import Any\n",
    "\n",
    "from quantum_executor import Dispatch\n",
    "from quantum_executor.job_runner import ResultData\n",
    "\n",
    "\n",
    "def split(\n",
    "    circuit: Any,  # noqa: ANN401\n",
    "    shots: int,\n",
    "    backends: dict[str, list[str]],\n",
    "    policy_data: Any | None = None,  # noqa: ANN401\n",
    "    _virtual_provider: VirtualProvider | None = None,\n",
    ") -> tuple[Dispatch, Any]:\n",
    "    \"\"\"\n",
    "    Run the same circuit and shot count on every backend.\n",
    "\n",
    "    Parameters\n",
    "    ----------\n",
    "    circuit : Any\n",
    "        The quantum circuit to run.\n",
    "    shots : int\n",
    "        Number of shots for the circuit.\n",
    "    backends : Dict[str, List[str]]\n",
    "        A dictionary mapping provider names to lists of backend names.\n",
    "    policy_data : Any, optional\n",
    "        Additional data carried along; not used in this policy.\n",
    "    _virtual_provider : Optional[VirtualProvider], optional\n",
    "        An instance of VirtualProvider; not used in this policy.\n",
    "\n",
    "    Returns\n",
    "    -------\n",
    "    Tuple[Dispatch, Any]\n",
    "        A tuple containing the Dispatch object with registered jobs and the unchanged blob.\n",
    "\n",
    "    \"\"\"\n",
    "    dispatch = Dispatch()\n",
    "    for provider_name, backends_ls in backends.items():\n",
    "        for backend_name in backends_ls:\n",
    "            dispatch.add_job(\n",
    "                provider_name=provider_name,\n",
    "                backend_name=backend_name,\n",
    "                circuits=circuit,\n",
    "                shots=shots,\n",
    "            )\n",
    "    return dispatch, policy_data"
   ]
  },
  {
   "cell_type": "markdown",
   "id": "518b4b06",
   "metadata": {},
   "source": [
    "We can now register this policy on the `QuantumExecutor`:"
   ]
  },
  {
   "cell_type": "code",
   "execution_count": 31,
   "id": "ef9abeae",
   "metadata": {},
   "outputs": [],
   "source": [
    "qe.add_policy(name=\"custom-multiplier\", split_policy=split)"
   ]
  },
  {
   "cell_type": "markdown",
   "id": "9ad46bc9",
   "metadata": {},
   "source": [
    "And then run the circuit. This time we run the experiment asynchronously."
   ]
  },
  {
   "cell_type": "code",
   "execution_count": 32,
   "id": "254829da",
   "metadata": {},
   "outputs": [
    {
     "data": {
      "text/plain": [
       "ResultCollector({'local_aer': {'fake_torino': [JobResult(job=Job(id=59a55ce2-cdad-46e1-91d6-551e4244ac4b, circuit_type=QuantumCircuit, shots=1024, config={}), status=Complete, data={'00': 508, '01': 13, '10': 15, '11': 488})], 'fake_oslo': [JobResult(job=Job(id=067d1d10-f9ae-4d5a-b114-e534d1612694, circuit_type=QuantumCircuit, shots=1024, config={}), status=Complete, data={'00': 517, '01': 8, '10': 15, '11': 484})]}})"
      ]
     },
     "execution_count": 32,
     "metadata": {},
     "output_type": "execute_result"
    }
   ],
   "source": [
    "res7 = qe.run_experiment(\n",
    "    circuit=qc,\n",
    "    shots=1024,\n",
    "    backends=backends,\n",
    "    split_policy=\"custom-multiplier\",\n",
    "    multiprocess=True,\n",
    "    wait=True,\n",
    ")\n",
    "\n",
    "res7"
   ]
  },
  {
   "cell_type": "markdown",
   "id": "87cc9b12",
   "metadata": {},
   "source": [
    "Finally, also in this case we can express a merge policy"
   ]
  },
  {
   "cell_type": "code",
   "execution_count": 33,
   "id": "54801611",
   "metadata": {},
   "outputs": [
    {
     "data": {
      "text/plain": [
       "MergedResultCollector(merged_results={'00': 1015}, initial_policy_data={}, final_policy_data={})"
      ]
     },
     "execution_count": 33,
     "metadata": {},
     "output_type": "execute_result"
    }
   ],
   "source": [
    "res8 = qe.run_experiment(\n",
    "    circuit=qc,\n",
    "    shots=1024,\n",
    "    backends=backends,\n",
    "    split_policy=\"custom-multiplier\",\n",
    "    merge_policy=\"max_frequency\",\n",
    "    multiprocess=False,\n",
    "    wait=True,\n",
    ")\n",
    "\n",
    "res8"
   ]
  }
 ],
 "metadata": {
  "kernelspec": {
   "display_name": ".venv",
   "language": "python",
   "name": "python3"
  },
  "language_info": {
   "codemirror_mode": {
    "name": "ipython",
    "version": 3
   },
   "file_extension": ".py",
   "mimetype": "text/x-python",
   "name": "python",
   "nbconvert_exporter": "python",
   "pygments_lexer": "ipython3",
   "version": "3.12.3"
  }
 },
 "nbformat": 4,
 "nbformat_minor": 5
}
