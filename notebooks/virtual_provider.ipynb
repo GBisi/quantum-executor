{
 "cells": [
  {
   "cell_type": "markdown",
   "id": "e2b5054a",
   "metadata": {},
   "source": [
    "# VirtualProvider Demo Notebook\n",
    "\n",
    "This notebook showcases the usage of the `VirtualProvider` class, which provides a unified interface for managing multiple quantum computing providers.\n",
    "\n",
    "Key functionalities demonstrated in this notebook include:\n",
    "\n",
    "1. Initializing providers using API keys, with optional exclusions.\n",
    "2. Listing all successfully initialized providers.\n",
    "3. Querying available quantum backends (devices) from each provider, with optional filters (e.g., online-only).\n",
    "4. Accessing specific backends from a selected provider.\n",
    "\n",
    "By using `VirtualProvider`, developers can interact with multiple quantum providers and their devices through a consistent and simplified interface.\n",
    "\n",
    "> 💡 Before proceeding, make sure the required dependencies are installed: `qiskit`, `qbraid`, and other supporting libraries!"
   ]
  },
  {
   "cell_type": "markdown",
   "id": "df289e48",
   "metadata": {},
   "source": [
    "## 1. Setup and Imports\n",
    "\n",
    "We begin by importing all necessary libraries and modules required for using the `VirtualProvider`."
   ]
  },
  {
   "cell_type": "code",
   "execution_count": 1,
   "id": "9b5538ea",
   "metadata": {},
   "outputs": [],
   "source": [
    "# Import the VirtualProvider class\n",
    "from quantum_executor.virtual_provider import VirtualProvider"
   ]
  },
  {
   "cell_type": "markdown",
   "id": "34c6c90d",
   "metadata": {},
   "source": [
    "## 2. Initialize the VirtualProvider\n",
    "\n",
    "We now instantiate the VirtualProvider. In this example, we just use the local provider."
   ]
  },
  {
   "cell_type": "markdown",
   "id": "d8ae8953",
   "metadata": {},
   "source": [
    "To know the available providers we can use the static method `default_providers()`"
   ]
  },
  {
   "cell_type": "code",
   "execution_count": 2,
   "id": "23575b12",
   "metadata": {},
   "outputs": [
    {
     "data": {
      "text/plain": [
       "['azure', 'braket', 'ionq', 'local', 'qbraid', 'qiskit']"
      ]
     },
     "execution_count": 2,
     "metadata": {},
     "output_type": "execute_result"
    }
   ],
   "source": [
    "VirtualProvider.default_providers()"
   ]
  },
  {
   "cell_type": "code",
   "execution_count": 3,
   "id": "36bd9b41",
   "metadata": {},
   "outputs": [
    {
     "name": "stdout",
     "output_type": "stream",
     "text": [
      "Initialized providers: {'local': <quantum_executor.local_aer.provider.LocalAERProvider object at 0x172dfe1e0>}\n"
     ]
    }
   ],
   "source": [
    "# Instantiate the VirtualProvider.\n",
    "vp = VirtualProvider(include=[\"local\"])\n",
    "print(\"Initialized providers:\", vp.get_providers())"
   ]
  },
  {
   "cell_type": "markdown",
   "id": "3754b53e",
   "metadata": {},
   "source": [
    "## 3. Retrieve and Display Available Backends\n",
    "\n",
    "Using the `get_backends` method, we retrieve the available quantum devices (backends)\n",
    "from each provider. In this demo we filter the results to display only online backends.\n",
    "Each provider maps its available devices to their device identifiers."
   ]
  },
  {
   "cell_type": "code",
   "execution_count": 4,
   "id": "23fb19a3",
   "metadata": {},
   "outputs": [
    {
     "name": "stdout",
     "output_type": "stream",
     "text": [
      "Available online backends by provider:\n",
      "Provider: local\n",
      "  Device ID: aer_simulator -> LocalAERBackend('aer_simulator')\n",
      "  Device ID: fake_algiers -> LocalAERBackend('fake_algiers')\n",
      "  Device ID: fake_almaden -> LocalAERBackend('fake_almaden')\n",
      "  Device ID: fake_armonk -> LocalAERBackend('fake_armonk')\n",
      "  Device ID: fake_athens -> LocalAERBackend('fake_athens')\n",
      "  Device ID: fake_auckland -> LocalAERBackend('fake_auckland')\n",
      "  Device ID: fake_belem -> LocalAERBackend('fake_belem')\n",
      "  Device ID: fake_boeblingen -> LocalAERBackend('fake_boeblingen')\n",
      "  Device ID: fake_bogota -> LocalAERBackend('fake_bogota')\n",
      "  Device ID: fake_brisbane -> LocalAERBackend('fake_brisbane')\n",
      "  Device ID: fake_brooklyn -> LocalAERBackend('fake_brooklyn')\n",
      "  Device ID: fake_burlington -> LocalAERBackend('fake_burlington')\n",
      "  Device ID: fake_cairo -> LocalAERBackend('fake_cairo')\n",
      "  Device ID: fake_cambridge -> LocalAERBackend('fake_cambridge')\n",
      "  Device ID: fake_casablanca -> LocalAERBackend('fake_casablanca')\n",
      "  Device ID: fake_cusco -> LocalAERBackend('fake_cusco')\n",
      "  Device ID: fake_essex -> LocalAERBackend('fake_essex')\n",
      "  Device ID: fake_fez -> LocalAERBackend('fake_fez')\n",
      "  Device ID: fake_fractional -> LocalAERBackend('fake_fractional')\n",
      "  Device ID: fake_geneva -> LocalAERBackend('fake_geneva')\n",
      "  Device ID: fake_guadalupe -> LocalAERBackend('fake_guadalupe')\n",
      "  Device ID: fake_hanoi -> LocalAERBackend('fake_hanoi')\n",
      "  Device ID: fake_jakarta -> LocalAERBackend('fake_jakarta')\n",
      "  Device ID: fake_johannesburg -> LocalAERBackend('fake_johannesburg')\n",
      "  Device ID: fake_kawasaki -> LocalAERBackend('fake_kawasaki')\n",
      "  Device ID: fake_kolkata -> LocalAERBackend('fake_kolkata')\n",
      "  Device ID: fake_kyiv -> LocalAERBackend('fake_kyiv')\n",
      "  Device ID: fake_kyoto -> LocalAERBackend('fake_kyoto')\n",
      "  Device ID: fake_lagos -> LocalAERBackend('fake_lagos')\n",
      "  Device ID: fake_lima -> LocalAERBackend('fake_lima')\n",
      "  Device ID: fake_london -> LocalAERBackend('fake_london')\n",
      "  Device ID: fake_manhattan -> LocalAERBackend('fake_manhattan')\n",
      "  Device ID: fake_manila -> LocalAERBackend('fake_manila')\n",
      "  Device ID: fake_melbourne -> LocalAERBackend('fake_melbourne')\n",
      "  Device ID: fake_marrakesh -> LocalAERBackend('fake_marrakesh')\n",
      "  Device ID: fake_montreal -> LocalAERBackend('fake_montreal')\n",
      "  Device ID: fake_mumbai -> LocalAERBackend('fake_mumbai')\n",
      "  Device ID: fake_nairobi -> LocalAERBackend('fake_nairobi')\n",
      "  Device ID: fake_osaka -> LocalAERBackend('fake_osaka')\n",
      "  Device ID: fake_oslo -> LocalAERBackend('fake_oslo')\n",
      "  Device ID: fake_ourense -> LocalAERBackend('fake_ourense')\n",
      "  Device ID: fake_paris -> LocalAERBackend('fake_paris')\n",
      "  Device ID: fake_peekskill -> LocalAERBackend('fake_peekskill')\n",
      "  Device ID: fake_perth -> LocalAERBackend('fake_perth')\n",
      "  Device ID: fake_prague -> LocalAERBackend('fake_prague')\n",
      "  Device ID: fake_poughkeepsie -> LocalAERBackend('fake_poughkeepsie')\n",
      "  Device ID: fake_quebec -> LocalAERBackend('fake_quebec')\n",
      "  Device ID: fake_quito -> LocalAERBackend('fake_quito')\n",
      "  Device ID: fake_rochester -> LocalAERBackend('fake_rochester')\n",
      "  Device ID: fake_rome -> LocalAERBackend('fake_rome')\n",
      "  Device ID: fake_santiago -> LocalAERBackend('fake_santiago')\n",
      "  Device ID: fake_sherbrooke -> LocalAERBackend('fake_sherbrooke')\n",
      "  Device ID: fake_singapore -> LocalAERBackend('fake_singapore')\n",
      "  Device ID: fake_sydney -> LocalAERBackend('fake_sydney')\n",
      "  Device ID: fake_torino -> LocalAERBackend('fake_torino')\n",
      "  Device ID: fake_toronto -> LocalAERBackend('fake_toronto')\n",
      "  Device ID: fake_valencia -> LocalAERBackend('fake_valencia')\n",
      "  Device ID: fake_vigo -> LocalAERBackend('fake_vigo')\n",
      "  Device ID: fake_washington -> LocalAERBackend('fake_washington')\n",
      "  Device ID: fake_yorktown -> LocalAERBackend('fake_yorktown')\n"
     ]
    }
   ],
   "source": [
    "backends = vp.get_backends(online=True)\n",
    "print(\"Available online backends by provider:\")\n",
    "for provider_name, devices in backends.items():\n",
    "    print(f\"Provider: {provider_name}\")\n",
    "    if devices:\n",
    "        for device_id, device in devices.items():\n",
    "            print(f\"  Device ID: {device_id} -> {device}\")\n",
    "    else:\n",
    "        print(\"  No online devices available.\")"
   ]
  },
  {
   "cell_type": "markdown",
   "id": "1f802c21",
   "metadata": {},
   "source": [
    "## 4. Retrieve a Specific Backend\n",
    "\n",
    "In this section we demonstrate how to retrieve a specific quantum device from a given provider.\n",
    "Here we retrieve a backend from the 'local' provider using the backend identifier."
   ]
  },
  {
   "cell_type": "code",
   "execution_count": 5,
   "id": "47466d2f",
   "metadata": {},
   "outputs": [
    {
     "name": "stdout",
     "output_type": "stream",
     "text": [
      "Retrieved backend for local -> aer_simulator:\n",
      "LocalAERBackend('aer_simulator')\n"
     ]
    }
   ],
   "source": [
    "provider_name = \"local\"\n",
    "backend_name = \"aer_simulator\"\n",
    "backend = vp.get_backend(provider_name=provider_name, backend_name=backend_name)\n",
    "print(f\"Retrieved backend for {provider_name} -> {backend_name}:\")\n",
    "print(backend)"
   ]
  }
 ],
 "metadata": {
  "kernelspec": {
   "display_name": ".venv",
   "language": "python",
   "name": "python3"
  },
  "language_info": {
   "codemirror_mode": {
    "name": "ipython",
    "version": 3
   },
   "file_extension": ".py",
   "mimetype": "text/x-python",
   "name": "python",
   "nbconvert_exporter": "python",
   "pygments_lexer": "ipython3",
   "version": "3.12.3"
  }
 },
 "nbformat": 4,
 "nbformat_minor": 5
}
