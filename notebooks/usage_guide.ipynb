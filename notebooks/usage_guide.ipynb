{
 "cells": [
  {
   "cell_type": "code",
   "execution_count": 1,
   "id": "772f72a2",
   "metadata": {},
   "outputs": [
    {
     "data": {
      "text/plain": [
       "['azure', 'braket', 'ionq', 'local_aer', 'qbraid', 'qiskit']"
      ]
     },
     "execution_count": 1,
     "metadata": {},
     "output_type": "execute_result"
    }
   ],
   "source": [
    "from quantum_executor import QuantumExecutor\n",
    "\n",
    "QuantumExecutor.default_providers()"
   ]
  },
  {
   "cell_type": "code",
   "execution_count": 2,
   "id": "02bd0c62",
   "metadata": {},
   "outputs": [],
   "source": [
    "executor = QuantumExecutor(providers=[\"local_aer\", \"ionq\", \"qiskit\"])"
   ]
  },
  {
   "cell_type": "code",
   "execution_count": 3,
   "id": "1b702015",
   "metadata": {},
   "outputs": [
    {
     "data": {
      "text/plain": [
       "{'ionq': <qbraid.runtime.ionq.provider.IonQProvider at 0x318f5ba70>,\n",
       " 'local_aer': <quantum_executor.local_aer.provider.LocalAERProvider at 0x318f5bdd0>,\n",
       " 'qiskit': <qbraid.runtime.ibm.provider.QiskitRuntimeProvider at 0x318f5be30>}"
      ]
     },
     "execution_count": 3,
     "metadata": {},
     "output_type": "execute_result"
    }
   ],
   "source": [
    "executor.virtual_provider.get_providers()"
   ]
  },
  {
   "cell_type": "code",
   "execution_count": 4,
   "id": "83124647",
   "metadata": {},
   "outputs": [
    {
     "data": {
      "text/plain": [
       "{'ionq': {'qpu.forte-1': <qbraid.runtime.ionq.device.IonQDevice('qpu.forte-1')>,\n",
       "  'simulator': <qbraid.runtime.ionq.device.IonQDevice('simulator')>},\n",
       " 'local_aer': {'aer_simulator': <quantum_executor.local_aer.device.LocalAERBackend('aer_simulator')>,\n",
       "  'fake_algiers': <quantum_executor.local_aer.device.LocalAERBackend('fake_algiers')>,\n",
       "  'fake_almaden': <quantum_executor.local_aer.device.LocalAERBackend('fake_almaden')>,\n",
       "  'fake_armonk': <quantum_executor.local_aer.device.LocalAERBackend('fake_armonk')>,\n",
       "  'fake_athens': <quantum_executor.local_aer.device.LocalAERBackend('fake_athens')>,\n",
       "  'fake_auckland': <quantum_executor.local_aer.device.LocalAERBackend('fake_auckland')>,\n",
       "  'fake_belem': <quantum_executor.local_aer.device.LocalAERBackend('fake_belem')>,\n",
       "  'fake_boeblingen': <quantum_executor.local_aer.device.LocalAERBackend('fake_boeblingen')>,\n",
       "  'fake_bogota': <quantum_executor.local_aer.device.LocalAERBackend('fake_bogota')>,\n",
       "  'fake_brisbane': <quantum_executor.local_aer.device.LocalAERBackend('fake_brisbane')>,\n",
       "  'fake_brooklyn': <quantum_executor.local_aer.device.LocalAERBackend('fake_brooklyn')>,\n",
       "  'fake_burlington': <quantum_executor.local_aer.device.LocalAERBackend('fake_burlington')>,\n",
       "  'fake_cairo': <quantum_executor.local_aer.device.LocalAERBackend('fake_cairo')>,\n",
       "  'fake_cambridge': <quantum_executor.local_aer.device.LocalAERBackend('fake_cambridge')>,\n",
       "  'fake_casablanca': <quantum_executor.local_aer.device.LocalAERBackend('fake_casablanca')>,\n",
       "  'fake_cusco': <quantum_executor.local_aer.device.LocalAERBackend('fake_cusco')>,\n",
       "  'fake_essex': <quantum_executor.local_aer.device.LocalAERBackend('fake_essex')>,\n",
       "  'fake_fez': <quantum_executor.local_aer.device.LocalAERBackend('fake_fez')>,\n",
       "  'fake_fractional': <quantum_executor.local_aer.device.LocalAERBackend('fake_fractional')>,\n",
       "  'fake_geneva': <quantum_executor.local_aer.device.LocalAERBackend('fake_geneva')>,\n",
       "  'fake_guadalupe': <quantum_executor.local_aer.device.LocalAERBackend('fake_guadalupe')>,\n",
       "  'fake_hanoi': <quantum_executor.local_aer.device.LocalAERBackend('fake_hanoi')>,\n",
       "  'fake_jakarta': <quantum_executor.local_aer.device.LocalAERBackend('fake_jakarta')>,\n",
       "  'fake_johannesburg': <quantum_executor.local_aer.device.LocalAERBackend('fake_johannesburg')>,\n",
       "  'fake_kawasaki': <quantum_executor.local_aer.device.LocalAERBackend('fake_kawasaki')>,\n",
       "  'fake_kolkata': <quantum_executor.local_aer.device.LocalAERBackend('fake_kolkata')>,\n",
       "  'fake_kyiv': <quantum_executor.local_aer.device.LocalAERBackend('fake_kyiv')>,\n",
       "  'fake_kyoto': <quantum_executor.local_aer.device.LocalAERBackend('fake_kyoto')>,\n",
       "  'fake_lagos': <quantum_executor.local_aer.device.LocalAERBackend('fake_lagos')>,\n",
       "  'fake_lima': <quantum_executor.local_aer.device.LocalAERBackend('fake_lima')>,\n",
       "  'fake_london': <quantum_executor.local_aer.device.LocalAERBackend('fake_london')>,\n",
       "  'fake_manhattan': <quantum_executor.local_aer.device.LocalAERBackend('fake_manhattan')>,\n",
       "  'fake_manila': <quantum_executor.local_aer.device.LocalAERBackend('fake_manila')>,\n",
       "  'fake_melbourne': <quantum_executor.local_aer.device.LocalAERBackend('fake_melbourne')>,\n",
       "  'fake_marrakesh': <quantum_executor.local_aer.device.LocalAERBackend('fake_marrakesh')>,\n",
       "  'fake_montreal': <quantum_executor.local_aer.device.LocalAERBackend('fake_montreal')>,\n",
       "  'fake_mumbai': <quantum_executor.local_aer.device.LocalAERBackend('fake_mumbai')>,\n",
       "  'fake_nairobi': <quantum_executor.local_aer.device.LocalAERBackend('fake_nairobi')>,\n",
       "  'fake_osaka': <quantum_executor.local_aer.device.LocalAERBackend('fake_osaka')>,\n",
       "  'fake_oslo': <quantum_executor.local_aer.device.LocalAERBackend('fake_oslo')>,\n",
       "  'fake_ourense': <quantum_executor.local_aer.device.LocalAERBackend('fake_ourense')>,\n",
       "  'fake_paris': <quantum_executor.local_aer.device.LocalAERBackend('fake_paris')>,\n",
       "  'fake_peekskill': <quantum_executor.local_aer.device.LocalAERBackend('fake_peekskill')>,\n",
       "  'fake_perth': <quantum_executor.local_aer.device.LocalAERBackend('fake_perth')>,\n",
       "  'fake_prague': <quantum_executor.local_aer.device.LocalAERBackend('fake_prague')>,\n",
       "  'fake_poughkeepsie': <quantum_executor.local_aer.device.LocalAERBackend('fake_poughkeepsie')>,\n",
       "  'fake_quebec': <quantum_executor.local_aer.device.LocalAERBackend('fake_quebec')>,\n",
       "  'fake_quito': <quantum_executor.local_aer.device.LocalAERBackend('fake_quito')>,\n",
       "  'fake_rochester': <quantum_executor.local_aer.device.LocalAERBackend('fake_rochester')>,\n",
       "  'fake_rome': <quantum_executor.local_aer.device.LocalAERBackend('fake_rome')>,\n",
       "  'fake_santiago': <quantum_executor.local_aer.device.LocalAERBackend('fake_santiago')>,\n",
       "  'fake_sherbrooke': <quantum_executor.local_aer.device.LocalAERBackend('fake_sherbrooke')>,\n",
       "  'fake_singapore': <quantum_executor.local_aer.device.LocalAERBackend('fake_singapore')>,\n",
       "  'fake_sydney': <quantum_executor.local_aer.device.LocalAERBackend('fake_sydney')>,\n",
       "  'fake_torino': <quantum_executor.local_aer.device.LocalAERBackend('fake_torino')>,\n",
       "  'fake_toronto': <quantum_executor.local_aer.device.LocalAERBackend('fake_toronto')>,\n",
       "  'fake_valencia': <quantum_executor.local_aer.device.LocalAERBackend('fake_valencia')>,\n",
       "  'fake_vigo': <quantum_executor.local_aer.device.LocalAERBackend('fake_vigo')>,\n",
       "  'fake_washington': <quantum_executor.local_aer.device.LocalAERBackend('fake_washington')>,\n",
       "  'fake_yorktown': <quantum_executor.local_aer.device.LocalAERBackend('fake_yorktown')>},\n",
       " 'qiskit': {'ibm_brisbane': <qbraid.runtime.ibm.device.QiskitBackend('ibm_brisbane')>,\n",
       "  'ibm_sherbrooke': <qbraid.runtime.ibm.device.QiskitBackend('ibm_sherbrooke')>}}"
      ]
     },
     "execution_count": 4,
     "metadata": {},
     "output_type": "execute_result"
    }
   ],
   "source": [
    "executor.virtual_provider.get_backends()"
   ]
  },
  {
   "cell_type": "code",
   "execution_count": 5,
   "id": "0d7efdd7",
   "metadata": {},
   "outputs": [],
   "source": [
    "from qiskit import QuantumCircuit\n",
    "\n",
    "# Qiskit circuit\n",
    "qiskit_circuit = QuantumCircuit(2)\n",
    "qiskit_circuit.h(0)\n",
    "qiskit_circuit.cx(0, 1)\n",
    "qiskit_circuit.measure_all()"
   ]
  },
  {
   "cell_type": "code",
   "execution_count": 6,
   "id": "c51271e7",
   "metadata": {},
   "outputs": [],
   "source": [
    "openqasm_circuit = \"\"\"OPENQASM 2.0;\n",
    "include \"qelib1.inc\";\n",
    "\n",
    "qreg q[2];\n",
    "creg c[2];\n",
    "h q[0];\n",
    "cx q[0], q[1];\n",
    "measure q -> c;\n",
    "\"\"\""
   ]
  },
  {
   "cell_type": "code",
   "execution_count": 7,
   "id": "f8c3be49",
   "metadata": {},
   "outputs": [],
   "source": [
    "dispatch = {\n",
    "    \"local_aer\": {  # Local Aer provider\n",
    "        \"fake_torino\": [\n",
    "            {\n",
    "                \"circuit\": qiskit_circuit,\n",
    "                \"shots\": 1024,\n",
    "                \"config\": {\"seed\": 42},\n",
    "            },\n",
    "            {\n",
    "                \"circuit\": openqasm_circuit,\n",
    "                \"shots\": 2048,\n",
    "                \"config\": {\"seed\": 24},\n",
    "            },\n",
    "        ],\n",
    "        \"aer_simulator\": [\n",
    "            {\n",
    "                \"circuit\": qiskit_circuit,\n",
    "                \"shots\": 1024,\n",
    "            },\n",
    "        ],\n",
    "    },\n",
    "    \"ionq\": {  # IonQ provider\n",
    "        \"simulator\": [\n",
    "            {\n",
    "                \"circuit\": qiskit_circuit,\n",
    "                \"shots\": 1024,\n",
    "                \"config\": {\"noise\": {\"model\": \"aria-1\"}},\n",
    "            },\n",
    "        ],\n",
    "    },\n",
    "}"
   ]
  },
  {
   "cell_type": "code",
   "execution_count": 8,
   "id": "2112698f",
   "metadata": {},
   "outputs": [
    {
     "data": {
      "text/plain": [
       "ResultCollector({'local_aer': {'fake_torino': [JobResult(job=Job(id=8dbe906f-4ae9-45d7-804c-b825c49961c9, circuit_type=QuantumCircuit, shots=1024, config={}), status=Complete, data={'00': 500, '01': 22, '10': 5, '11': 497}), JobResult(job=Job(id=3dec625e-8fa1-4bcb-aaad-532831d377ab, circuit_type=str, shots=2048, config={}), status=Complete, data={'00': 1046, '01': 24, '10': 21, '11': 957})], 'aer_simulator': [JobResult(job=Job(id=6d1ef4ed-952c-4464-bbcd-b227db0abf19, circuit_type=QuantumCircuit, shots=1024, config={}), status=Complete, data={'00': 533, '11': 491})]}, 'ionq': {'simulator': [JobResult(job=Job(id=cc09b634-684a-49f2-8ef9-e971cc0f4aa3, circuit_type=QuantumCircuit, shots=1024, config={}), status=Complete, data={'00': 512, '11': 512})]}})"
      ]
     },
     "execution_count": 8,
     "metadata": {},
     "output_type": "execute_result"
    }
   ],
   "source": [
    "results = executor.run_dispatch(dispatch, multiprocess=True, wait=True)\n",
    "\n",
    "results"
   ]
  },
  {
   "cell_type": "code",
   "execution_count": 9,
   "id": "1787a59e",
   "metadata": {},
   "outputs": [
    {
     "data": {
      "text/plain": [
       "ResultCollector(complete_jobs=0, total_jobs=4, complete=False)"
      ]
     },
     "execution_count": 9,
     "metadata": {},
     "output_type": "execute_result"
    }
   ],
   "source": [
    "results = executor.run_dispatch(dispatch, multiprocess=True, wait=False)\n",
    "\n",
    "results"
   ]
  },
  {
   "cell_type": "code",
   "execution_count": 10,
   "id": "843e1b8b",
   "metadata": {},
   "outputs": [
    {
     "data": {
      "text/plain": [
       "False"
      ]
     },
     "execution_count": 10,
     "metadata": {},
     "output_type": "execute_result"
    }
   ],
   "source": [
    "results.complete"
   ]
  },
  {
   "cell_type": "code",
   "execution_count": 11,
   "id": "e1d79d2c",
   "metadata": {},
   "outputs": [
    {
     "data": {
      "text/plain": [
       "{'local_aer': {'fake_torino': [JobResult(job=Job(id=fa296540-8b1e-4f3f-a68b-d846d38351fa, circuit_type=QuantumCircuit, shots=1024, config={}), status=Pending, data=None),\n",
       "   JobResult(job=Job(id=8c515431-496f-4d39-a39c-402d5c8a9f19, circuit_type=str, shots=2048, config={}), status=Pending, data=None)],\n",
       "  'aer_simulator': [JobResult(job=Job(id=4f34b011-d014-4c8b-b8fb-174d616c066e, circuit_type=QuantumCircuit, shots=1024, config={}), status=Pending, data=None)]},\n",
       " 'ionq': {'simulator': [JobResult(job=Job(id=b082287b-ce7f-48ee-b356-0a60ee5c84f1, circuit_type=QuantumCircuit, shots=1024, config={}), status=Pending, data=None)]}}"
      ]
     },
     "execution_count": 11,
     "metadata": {},
     "output_type": "execute_result"
    }
   ],
   "source": [
    "results.get_jobs()"
   ]
  },
  {
   "cell_type": "code",
   "execution_count": 12,
   "id": "42d0af44",
   "metadata": {},
   "outputs": [
    {
     "data": {
      "text/plain": [
       "True"
      ]
     },
     "execution_count": 12,
     "metadata": {},
     "output_type": "execute_result"
    }
   ],
   "source": [
    "results.wait_for_completion()"
   ]
  },
  {
   "cell_type": "code",
   "execution_count": 13,
   "id": "f0b5b2bf",
   "metadata": {},
   "outputs": [
    {
     "data": {
      "text/plain": [
       "{'local_aer': {'fake_torino': [JobResult(job=Job(id=fa296540-8b1e-4f3f-a68b-d846d38351fa, circuit_type=QuantumCircuit, shots=1024, config={}), status=Complete, data={'00': 516, '01': 10, '10': 6, '11': 492}),\n",
       "   JobResult(job=Job(id=8c515431-496f-4d39-a39c-402d5c8a9f19, circuit_type=str, shots=2048, config={}), status=Complete, data={'00': 1000, '01': 19, '10': 21, '11': 1008})],\n",
       "  'aer_simulator': [JobResult(job=Job(id=4f34b011-d014-4c8b-b8fb-174d616c066e, circuit_type=QuantumCircuit, shots=1024, config={}), status=Complete, data={'00': 477, '11': 547})]},\n",
       " 'ionq': {'simulator': [JobResult(job=Job(id=b082287b-ce7f-48ee-b356-0a60ee5c84f1, circuit_type=QuantumCircuit, shots=1024, config={}), status=Complete, data={'00': 512, '11': 512})]}}"
      ]
     },
     "execution_count": 13,
     "metadata": {},
     "output_type": "execute_result"
    }
   ],
   "source": [
    "results.get_jobs()"
   ]
  },
  {
   "cell_type": "code",
   "execution_count": 14,
   "id": "cd0218f4",
   "metadata": {},
   "outputs": [
    {
     "data": {
      "text/plain": [
       "{'local_aer': {'fake_torino': [{'00': 516, '01': 10, '10': 6, '11': 492},\n",
       "   {'00': 1000, '01': 19, '10': 21, '11': 1008}],\n",
       "  'aer_simulator': [{'00': 477, '11': 547}]},\n",
       " 'ionq': {'simulator': [{'00': 512, '11': 512}]}}"
      ]
     },
     "execution_count": 14,
     "metadata": {},
     "output_type": "execute_result"
    }
   ],
   "source": [
    "results.get_results()"
   ]
  },
  {
   "cell_type": "code",
   "execution_count": 15,
   "id": "26be6ecb",
   "metadata": {},
   "outputs": [
    {
     "data": {
      "text/plain": [
       "True"
      ]
     },
     "execution_count": 15,
     "metadata": {},
     "output_type": "execute_result"
    }
   ],
   "source": [
    "results.wait_for_completion()"
   ]
  },
  {
   "cell_type": "code",
   "execution_count": 16,
   "id": "3aa5a658",
   "metadata": {},
   "outputs": [
    {
     "data": {
      "text/plain": [
       "{'local_aer': {'fake_torino': [JobResult(job=Job(id=fa296540-8b1e-4f3f-a68b-d846d38351fa, circuit_type=QuantumCircuit, shots=1024, config={}), status=Complete, data={'00': 516, '01': 10, '10': 6, '11': 492}),\n",
       "   JobResult(job=Job(id=8c515431-496f-4d39-a39c-402d5c8a9f19, circuit_type=str, shots=2048, config={}), status=Complete, data={'00': 1000, '01': 19, '10': 21, '11': 1008})],\n",
       "  'aer_simulator': [JobResult(job=Job(id=4f34b011-d014-4c8b-b8fb-174d616c066e, circuit_type=QuantumCircuit, shots=1024, config={}), status=Complete, data={'00': 477, '11': 547})]},\n",
       " 'ionq': {'simulator': [JobResult(job=Job(id=b082287b-ce7f-48ee-b356-0a60ee5c84f1, circuit_type=QuantumCircuit, shots=1024, config={}), status=Complete, data={'00': 512, '11': 512})]}}"
      ]
     },
     "execution_count": 16,
     "metadata": {},
     "output_type": "execute_result"
    }
   ],
   "source": [
    "results.get_jobs()"
   ]
  },
  {
   "cell_type": "code",
   "execution_count": 17,
   "id": "d1247e0b",
   "metadata": {},
   "outputs": [
    {
     "data": {
      "text/plain": [
       "{'local_aer': {'fake_torino': [{'00': 516, '01': 10, '10': 6, '11': 492},\n",
       "   {'00': 1000, '01': 19, '10': 21, '11': 1008}],\n",
       "  'aer_simulator': [{'00': 477, '11': 547}]},\n",
       " 'ionq': {'simulator': [{'00': 512, '11': 512}]}}"
      ]
     },
     "execution_count": 17,
     "metadata": {},
     "output_type": "execute_result"
    }
   ],
   "source": [
    "results.get_results()"
   ]
  },
  {
   "cell_type": "code",
   "execution_count": 18,
   "id": "6eedf7e5",
   "metadata": {},
   "outputs": [
    {
     "data": {
      "text/plain": [
       "Dispatch({'local_aer': {'fake_torino': [Job(id=bf458b67-48bd-42d7-b1f7-33d9ce169b5b, circuit_type=QuantumCircuit, shots=1024, config={'seed': 42}), Job(id=54d721d1-c344-4e42-8fc0-2d123a47ee68, circuit_type=str, shots=2048, config={'seed': 24})], 'aer_simulator': [Job(id=3857521b-6cf5-45ca-b577-0395c98423d9, circuit_type=QuantumCircuit, shots=1024, config={})]}, 'ionq': {'simulator': [Job(id=06710e4c-3e48-4949-8d7a-f088c1293697, circuit_type=QuantumCircuit, shots=1024, config={'noise': {'model': 'aria-1'}})]}})"
      ]
     },
     "execution_count": 18,
     "metadata": {},
     "output_type": "execute_result"
    }
   ],
   "source": [
    "from quantum_executor import Dispatch\n",
    "\n",
    "dispatch = Dispatch()\n",
    "\n",
    "dispatch.add_job(\"local_aer\", \"fake_torino\", qiskit_circuit, shots=1024, config={\"seed\": 42})\n",
    "dispatch.add_job(\"local_aer\", \"fake_torino\", openqasm_circuit, shots=2048, config={\"seed\": 24})\n",
    "dispatch.add_job(\"local_aer\", \"aer_simulator\", qiskit_circuit, shots=1024)\n",
    "dispatch.add_job(\"ionq\", \"simulator\", qiskit_circuit, shots=1024, config={\"noise\": {\"model\": \"aria-1\"}})\n",
    "\n",
    "dispatch"
   ]
  },
  {
   "cell_type": "code",
   "execution_count": 19,
   "id": "be02b9a9",
   "metadata": {},
   "outputs": [],
   "source": [
    "from typing import Any\n",
    "\n",
    "from quantum_executor.dispatch import Dispatch\n",
    "from quantum_executor.virtual_provider import VirtualProvider\n",
    "\n",
    "\n",
    "def split(\n",
    "    circuit: Any,  # noqa: ANN401\n",
    "    shots: int,\n",
    "    backends: dict[str, list[str]],\n",
    "    _virtual_provider: VirtualProvider,  # pylint: disable=unused-argument\n",
    "    policy_data: Any | None = None,  # noqa: ANN401\n",
    ") -> tuple[Dispatch, Any]:\n",
    "    \"\"\"Uniformly distribute the same circuit and shot count to every backend.\n",
    "\n",
    "    Parameters\n",
    "    ----------\n",
    "    circuit : Any\n",
    "        The quantum circuit to run.\n",
    "    shots : int\n",
    "        Number of shots for the circuit.\n",
    "    backends : Dict[str, List[str]]\n",
    "        A dictionary mapping provider names to lists of backend names.\n",
    "    _virtual_provider : VirtualProvider\n",
    "        An instance of VirtualProvider; not used in this policy.\n",
    "    policy_data : Any, optional\n",
    "        Additional data carried along; not used in this policy.\n",
    "\n",
    "    Returns\n",
    "    -------\n",
    "    Tuple[Dispatch, Any]\n",
    "        A tuple containing the Dispatch object with registered jobs and the unchanged blob.\n",
    "\n",
    "    \"\"\"\n",
    "    bakends_num = sum(len(backends_ls) for backends_ls in backends.values())\n",
    "    backends_shots = [shots // bakends_num] * bakends_num\n",
    "    # If shots is not divisible by the number of backends, distribute the remainder\n",
    "    remainder = shots % bakends_num\n",
    "    for i in range(remainder):\n",
    "        backends_shots[i] += 1\n",
    "\n",
    "    dispatch = Dispatch()\n",
    "    for provider_name, backends_ls in backends.items():\n",
    "        for backend_name, backend_shots in zip(backends_ls, backends_shots, strict=False):\n",
    "            dispatch.add_job(\n",
    "                provider_name=provider_name,\n",
    "                backend_name=backend_name,\n",
    "                circuits=circuit.copy(),\n",
    "                shots=backend_shots,\n",
    "            )\n",
    "    return dispatch, policy_data"
   ]
  },
  {
   "cell_type": "code",
   "execution_count": 20,
   "id": "b2657968",
   "metadata": {},
   "outputs": [],
   "source": [
    "executor.add_policy(\"my_split_policy\", split)\n",
    "# executor.add_policy_from_file(\"my_split_policy_file.py\")"
   ]
  },
  {
   "cell_type": "code",
   "execution_count": 21,
   "id": "e9cf7660",
   "metadata": {},
   "outputs": [
    {
     "data": {
      "text/plain": [
       "ResultCollector({'local_aer': {'fake_torino': [JobResult(job=Job(id=04c58938-03a7-41bd-a591-7952f7c2ae41, circuit_type=QuantumCircuit, shots=342, config={}), status=Complete, data={'00': 169, '01': 6, '10': 3, '11': 164})], 'aer_simulator': [JobResult(job=Job(id=b26f3542-3158-4cf5-bf58-1b8e06012d92, circuit_type=QuantumCircuit, shots=341, config={}), status=Complete, data={'00': 175, '11': 166})]}, 'ionq': {'simulator': [JobResult(job=Job(id=19508556-ac42-429a-946b-7ffdfb9f87ca, circuit_type=QuantumCircuit, shots=342, config={}), status=Complete, data={'00': 171, '11': 171})]}})"
      ]
     },
     "execution_count": 21,
     "metadata": {},
     "output_type": "execute_result"
    }
   ],
   "source": [
    "backends = {\n",
    "    \"local_aer\": [\"fake_torino\", \"aer_simulator\"],\n",
    "    \"ionq\": [\"simulator\"],\n",
    "}\n",
    "\n",
    "results = executor.run_experiment(\n",
    "    circuit=qiskit_circuit,\n",
    "    shots=1024,\n",
    "    backends=backends,\n",
    "    split_policy=\"my_split_policy\",\n",
    "    multiprocess=True,\n",
    "    wait=True,\n",
    ")\n",
    "\n",
    "results"
   ]
  },
  {
   "cell_type": "code",
   "execution_count": null,
   "id": "6816a837",
   "metadata": {},
   "outputs": [],
   "source": [
    "from quantum_executor.job_runner import ResultData\n",
    "\n",
    "\n",
    "def merge(\n",
    "    results: dict[str, dict[str, list[ResultData]]],\n",
    "    policy_data: Any,  # noqa: ANN401\n",
    ") -> tuple[dict[str, int], Any]:\n",
    "    \"\"\"Merge job results by summing bitstring counts.\n",
    "\n",
    "    Parameters\n",
    "    ----------\n",
    "    results : Dict[str, Dict[str, List[ResultData]]]\n",
    "        Nested mapping (provider -> backend -> list of ResultData objects).\n",
    "    policy_data : Any\n",
    "        Additional data carried along; not used in this policy.\n",
    "\n",
    "    Returns\n",
    "    -------\n",
    "    Tuple[Dict, Any]\n",
    "        A tuple containing the merged counts dictionary and the unchanged blob.\n",
    "\n",
    "    \"\"\"\n",
    "    merged_results: dict[str, int] = {}\n",
    "    for _, provider_results in results.items():  # pylint: disable=too-many-nested-blocks\n",
    "        for _, job_results in provider_results.items():\n",
    "            for result_data in job_results:\n",
    "                if result_data is not None and isinstance(result_data, dict):\n",
    "                    for bitstring, count in result_data.items():\n",
    "                        if isinstance(count, int):\n",
    "                            merged_results[bitstring] = merged_results.get(bitstring, 0) + count\n",
    "    return merged_results, policy_data"
   ]
  },
  {
   "cell_type": "code",
   "execution_count": 23,
   "id": "981ddd19",
   "metadata": {},
   "outputs": [],
   "source": [
    "executor.add_policy(\"my_merge_policy\", merge_policy=merge)\n",
    "# executor.add_policy_from_file(\"my_merge_policy_file.py\")"
   ]
  },
  {
   "cell_type": "code",
   "execution_count": 24,
   "id": "b94674a1",
   "metadata": {},
   "outputs": [
    {
     "data": {
      "text/plain": [
       "MergedResultCollector(merged_results={'00': 2592, '01': 32, '10': 41, '11': 2455}, initial_policy_data={}, final_policy_data={})"
      ]
     },
     "execution_count": 24,
     "metadata": {},
     "output_type": "execute_result"
    }
   ],
   "source": [
    "results = executor.run_dispatch(dispatch, multiprocess=True, wait=True, merge_policy=\"my_merge_policy\")\n",
    "\n",
    "# results = executor.run_experiment(\n",
    "#     circuit=qiskit_circuit,\n",
    "#     shots=1024,\n",
    "#     backends=backends,\n",
    "#     split_policy=\"my_split_policy\",\n",
    "#     merge_policy=\"my_merge_policy\",\n",
    "#     multiprocess=True,\n",
    "#     wait=True,\n",
    "# )\n",
    "\n",
    "results"
   ]
  }
 ],
 "metadata": {
  "kernelspec": {
   "display_name": ".venv",
   "language": "python",
   "name": "python3"
  },
  "language_info": {
   "codemirror_mode": {
    "name": "ipython",
    "version": 3
   },
   "file_extension": ".py",
   "mimetype": "text/x-python",
   "name": "python",
   "nbconvert_exporter": "python",
   "pygments_lexer": "ipython3",
   "version": "3.12.3"
  }
 },
 "nbformat": 4,
 "nbformat_minor": 5
}
